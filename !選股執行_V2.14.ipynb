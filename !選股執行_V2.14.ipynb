{
 "cells": [
  {
   "cell_type": "markdown",
   "metadata": {},
   "source": [
    "# Final Project"
   ]
  },
  {
   "cell_type": "code",
   "execution_count": 46,
   "metadata": {},
   "outputs": [],
   "source": [
    "# 移除不必要的警告\n",
    "import warnings\n",
    "warnings.filterwarnings('ignore')"
   ]
  },
  {
   "cell_type": "markdown",
   "metadata": {},
   "source": [
    "### 獲取歷史資料"
   ]
  },
  {
   "cell_type": "code",
   "execution_count": 47,
   "metadata": {},
   "outputs": [],
   "source": [
    "from ml_finlab.data import Data\n",
    "#from finlab.backtest import sim\n",
    "\n",
    "data = Data()\n",
    "\n",
    "rev = data.get(\"當月營收\")\n",
    "\n",
    "close = data.get_adj(\"收盤價\")\n",
    "open_ = data.get_adj(\"開盤價\")\n",
    "high = data.get_adj(\"最高價\")\n",
    "low = data.get_adj(\"最低價\")\n",
    "vol = data.get(\"成交股數\")\n",
    "\n",
    "PB = data.get(\"股價淨值比\")\n",
    "pe = data.get(\"本益比\")\n",
    "DY = data.get(\"殖利率(%)\")\n",
    "\n",
    "rev.index = rev.index.shift(5, \"d\")"
   ]
  },
  {
   "cell_type": "code",
   "execution_count": 48,
   "metadata": {
    "tags": []
   },
   "outputs": [
    {
     "data": {
      "text/html": [
       "<div>\n",
       "<style scoped>\n",
       "    .dataframe tbody tr th:only-of-type {\n",
       "        vertical-align: middle;\n",
       "    }\n",
       "\n",
       "    .dataframe tbody tr th {\n",
       "        vertical-align: top;\n",
       "    }\n",
       "\n",
       "    .dataframe thead th {\n",
       "        text-align: right;\n",
       "    }\n",
       "</style>\n",
       "<table border=\"1\" class=\"dataframe\">\n",
       "  <thead>\n",
       "    <tr style=\"text-align: right;\">\n",
       "      <th>stock_id</th>\n",
       "      <th>0015</th>\n",
       "      <th>0050</th>\n",
       "      <th>0051</th>\n",
       "      <th>0052</th>\n",
       "      <th>0053</th>\n",
       "      <th>0054</th>\n",
       "      <th>0055</th>\n",
       "      <th>0056</th>\n",
       "      <th>0057</th>\n",
       "      <th>0058</th>\n",
       "      <th>...</th>\n",
       "      <th>9944</th>\n",
       "      <th>9945</th>\n",
       "      <th>9946</th>\n",
       "      <th>9949</th>\n",
       "      <th>9950</th>\n",
       "      <th>9951</th>\n",
       "      <th>9955</th>\n",
       "      <th>9958</th>\n",
       "      <th>9960</th>\n",
       "      <th>9962</th>\n",
       "    </tr>\n",
       "    <tr>\n",
       "      <th>date</th>\n",
       "      <th></th>\n",
       "      <th></th>\n",
       "      <th></th>\n",
       "      <th></th>\n",
       "      <th></th>\n",
       "      <th></th>\n",
       "      <th></th>\n",
       "      <th></th>\n",
       "      <th></th>\n",
       "      <th></th>\n",
       "      <th></th>\n",
       "      <th></th>\n",
       "      <th></th>\n",
       "      <th></th>\n",
       "      <th></th>\n",
       "      <th></th>\n",
       "      <th></th>\n",
       "      <th></th>\n",
       "      <th></th>\n",
       "      <th></th>\n",
       "      <th></th>\n",
       "    </tr>\n",
       "  </thead>\n",
       "  <tbody>\n",
       "    <tr>\n",
       "      <th>2007-04-23</th>\n",
       "      <td>9.54</td>\n",
       "      <td>57.850000</td>\n",
       "      <td>32.830000</td>\n",
       "      <td>38.400000</td>\n",
       "      <td>NaN</td>\n",
       "      <td>NaN</td>\n",
       "      <td>NaN</td>\n",
       "      <td>NaN</td>\n",
       "      <td>NaN</td>\n",
       "      <td>NaN</td>\n",
       "      <td>...</td>\n",
       "      <td>31.000000</td>\n",
       "      <td>30.350000</td>\n",
       "      <td>9.780000</td>\n",
       "      <td>73.600000</td>\n",
       "      <td>13.250000</td>\n",
       "      <td>51.300000</td>\n",
       "      <td>72.400000</td>\n",
       "      <td>NaN</td>\n",
       "      <td>46.000000</td>\n",
       "      <td>49.600000</td>\n",
       "    </tr>\n",
       "    <tr>\n",
       "      <th>2007-04-24</th>\n",
       "      <td>9.54</td>\n",
       "      <td>58.100000</td>\n",
       "      <td>32.990000</td>\n",
       "      <td>38.650000</td>\n",
       "      <td>NaN</td>\n",
       "      <td>NaN</td>\n",
       "      <td>NaN</td>\n",
       "      <td>NaN</td>\n",
       "      <td>NaN</td>\n",
       "      <td>NaN</td>\n",
       "      <td>...</td>\n",
       "      <td>32.000000</td>\n",
       "      <td>30.500000</td>\n",
       "      <td>9.910000</td>\n",
       "      <td>75.000000</td>\n",
       "      <td>13.250000</td>\n",
       "      <td>50.500000</td>\n",
       "      <td>71.600000</td>\n",
       "      <td>NaN</td>\n",
       "      <td>45.900000</td>\n",
       "      <td>50.400000</td>\n",
       "    </tr>\n",
       "    <tr>\n",
       "      <th>2007-04-25</th>\n",
       "      <td>9.52</td>\n",
       "      <td>57.600000</td>\n",
       "      <td>32.800000</td>\n",
       "      <td>38.590000</td>\n",
       "      <td>NaN</td>\n",
       "      <td>NaN</td>\n",
       "      <td>NaN</td>\n",
       "      <td>NaN</td>\n",
       "      <td>NaN</td>\n",
       "      <td>NaN</td>\n",
       "      <td>...</td>\n",
       "      <td>32.300000</td>\n",
       "      <td>29.500000</td>\n",
       "      <td>10.100000</td>\n",
       "      <td>74.600000</td>\n",
       "      <td>13.300000</td>\n",
       "      <td>49.900000</td>\n",
       "      <td>71.600000</td>\n",
       "      <td>NaN</td>\n",
       "      <td>49.100000</td>\n",
       "      <td>49.100000</td>\n",
       "    </tr>\n",
       "    <tr>\n",
       "      <th>2007-04-26</th>\n",
       "      <td>9.59</td>\n",
       "      <td>57.700000</td>\n",
       "      <td>32.800000</td>\n",
       "      <td>38.600000</td>\n",
       "      <td>NaN</td>\n",
       "      <td>NaN</td>\n",
       "      <td>NaN</td>\n",
       "      <td>NaN</td>\n",
       "      <td>NaN</td>\n",
       "      <td>NaN</td>\n",
       "      <td>...</td>\n",
       "      <td>31.600000</td>\n",
       "      <td>29.150000</td>\n",
       "      <td>10.800000</td>\n",
       "      <td>74.500000</td>\n",
       "      <td>13.250000</td>\n",
       "      <td>49.500000</td>\n",
       "      <td>71.000000</td>\n",
       "      <td>NaN</td>\n",
       "      <td>48.900000</td>\n",
       "      <td>48.000000</td>\n",
       "    </tr>\n",
       "    <tr>\n",
       "      <th>2007-04-27</th>\n",
       "      <td>9.55</td>\n",
       "      <td>57.500000</td>\n",
       "      <td>32.720000</td>\n",
       "      <td>38.400000</td>\n",
       "      <td>NaN</td>\n",
       "      <td>NaN</td>\n",
       "      <td>NaN</td>\n",
       "      <td>NaN</td>\n",
       "      <td>NaN</td>\n",
       "      <td>NaN</td>\n",
       "      <td>...</td>\n",
       "      <td>31.400000</td>\n",
       "      <td>28.500000</td>\n",
       "      <td>11.550000</td>\n",
       "      <td>75.700000</td>\n",
       "      <td>13.150000</td>\n",
       "      <td>48.800000</td>\n",
       "      <td>69.500000</td>\n",
       "      <td>NaN</td>\n",
       "      <td>48.600000</td>\n",
       "      <td>46.500000</td>\n",
       "    </tr>\n",
       "    <tr>\n",
       "      <th>...</th>\n",
       "      <td>...</td>\n",
       "      <td>...</td>\n",
       "      <td>...</td>\n",
       "      <td>...</td>\n",
       "      <td>...</td>\n",
       "      <td>...</td>\n",
       "      <td>...</td>\n",
       "      <td>...</td>\n",
       "      <td>...</td>\n",
       "      <td>...</td>\n",
       "      <td>...</td>\n",
       "      <td>...</td>\n",
       "      <td>...</td>\n",
       "      <td>...</td>\n",
       "      <td>...</td>\n",
       "      <td>...</td>\n",
       "      <td>...</td>\n",
       "      <td>...</td>\n",
       "      <td>...</td>\n",
       "      <td>...</td>\n",
       "      <td>...</td>\n",
       "    </tr>\n",
       "    <tr>\n",
       "      <th>2023-11-07</th>\n",
       "      <td>NaN</td>\n",
       "      <td>220.919373</td>\n",
       "      <td>113.671776</td>\n",
       "      <td>203.622587</td>\n",
       "      <td>103.881698</td>\n",
       "      <td>NaN</td>\n",
       "      <td>35.575227</td>\n",
       "      <td>78.479239</td>\n",
       "      <td>96.488706</td>\n",
       "      <td>NaN</td>\n",
       "      <td>...</td>\n",
       "      <td>34.208633</td>\n",
       "      <td>147.317862</td>\n",
       "      <td>43.562246</td>\n",
       "      <td>20.720798</td>\n",
       "      <td>52.308071</td>\n",
       "      <td>169.441653</td>\n",
       "      <td>30.856413</td>\n",
       "      <td>216.867838</td>\n",
       "      <td>75.665057</td>\n",
       "      <td>43.314584</td>\n",
       "    </tr>\n",
       "    <tr>\n",
       "      <th>2023-11-08</th>\n",
       "      <td>NaN</td>\n",
       "      <td>222.141852</td>\n",
       "      <td>114.489559</td>\n",
       "      <td>204.914609</td>\n",
       "      <td>104.568645</td>\n",
       "      <td>NaN</td>\n",
       "      <td>35.530043</td>\n",
       "      <td>79.189977</td>\n",
       "      <td>96.696880</td>\n",
       "      <td>NaN</td>\n",
       "      <td>...</td>\n",
       "      <td>34.297027</td>\n",
       "      <td>148.829922</td>\n",
       "      <td>44.138466</td>\n",
       "      <td>20.865699</td>\n",
       "      <td>50.289163</td>\n",
       "      <td>168.991010</td>\n",
       "      <td>30.474684</td>\n",
       "      <td>227.711229</td>\n",
       "      <td>76.829135</td>\n",
       "      <td>42.825153</td>\n",
       "    </tr>\n",
       "    <tr>\n",
       "      <th>2023-11-09</th>\n",
       "      <td>NaN</td>\n",
       "      <td>222.229172</td>\n",
       "      <td>114.489559</td>\n",
       "      <td>205.345283</td>\n",
       "      <td>104.492318</td>\n",
       "      <td>NaN</td>\n",
       "      <td>35.545104</td>\n",
       "      <td>79.212904</td>\n",
       "      <td>NaN</td>\n",
       "      <td>NaN</td>\n",
       "      <td>...</td>\n",
       "      <td>34.385421</td>\n",
       "      <td>148.397905</td>\n",
       "      <td>43.447002</td>\n",
       "      <td>20.865699</td>\n",
       "      <td>48.912634</td>\n",
       "      <td>169.666974</td>\n",
       "      <td>29.711226</td>\n",
       "      <td>233.907453</td>\n",
       "      <td>75.810567</td>\n",
       "      <td>42.702796</td>\n",
       "    </tr>\n",
       "    <tr>\n",
       "      <th>2023-11-10</th>\n",
       "      <td>NaN</td>\n",
       "      <td>221.355972</td>\n",
       "      <td>114.244224</td>\n",
       "      <td>204.570070</td>\n",
       "      <td>104.263335</td>\n",
       "      <td>NaN</td>\n",
       "      <td>35.499920</td>\n",
       "      <td>78.937780</td>\n",
       "      <td>NaN</td>\n",
       "      <td>NaN</td>\n",
       "      <td>...</td>\n",
       "      <td>34.562210</td>\n",
       "      <td>147.533871</td>\n",
       "      <td>42.870782</td>\n",
       "      <td>20.793248</td>\n",
       "      <td>46.985495</td>\n",
       "      <td>168.089725</td>\n",
       "      <td>29.965712</td>\n",
       "      <td>246.299901</td>\n",
       "      <td>75.956077</td>\n",
       "      <td>42.580438</td>\n",
       "    </tr>\n",
       "    <tr>\n",
       "      <th>2023-11-13</th>\n",
       "      <td>NaN</td>\n",
       "      <td>224.761449</td>\n",
       "      <td>114.489559</td>\n",
       "      <td>208.876808</td>\n",
       "      <td>106.095195</td>\n",
       "      <td>NaN</td>\n",
       "      <td>35.484858</td>\n",
       "      <td>79.189977</td>\n",
       "      <td>98.154099</td>\n",
       "      <td>NaN</td>\n",
       "      <td>...</td>\n",
       "      <td>34.385421</td>\n",
       "      <td>149.909965</td>\n",
       "      <td>43.677490</td>\n",
       "      <td>20.793248</td>\n",
       "      <td>45.517198</td>\n",
       "      <td>174.173401</td>\n",
       "      <td>29.647605</td>\n",
       "      <td>257.143293</td>\n",
       "      <td>76.101586</td>\n",
       "      <td>42.458080</td>\n",
       "    </tr>\n",
       "  </tbody>\n",
       "</table>\n",
       "<p>4081 rows × 2045 columns</p>\n",
       "</div>"
      ],
      "text/plain": [
       "stock_id    0015        0050        0051        0052        0053  0054  \\\n",
       "date                                                                     \n",
       "2007-04-23  9.54   57.850000   32.830000   38.400000         NaN   NaN   \n",
       "2007-04-24  9.54   58.100000   32.990000   38.650000         NaN   NaN   \n",
       "2007-04-25  9.52   57.600000   32.800000   38.590000         NaN   NaN   \n",
       "2007-04-26  9.59   57.700000   32.800000   38.600000         NaN   NaN   \n",
       "2007-04-27  9.55   57.500000   32.720000   38.400000         NaN   NaN   \n",
       "...          ...         ...         ...         ...         ...   ...   \n",
       "2023-11-07   NaN  220.919373  113.671776  203.622587  103.881698   NaN   \n",
       "2023-11-08   NaN  222.141852  114.489559  204.914609  104.568645   NaN   \n",
       "2023-11-09   NaN  222.229172  114.489559  205.345283  104.492318   NaN   \n",
       "2023-11-10   NaN  221.355972  114.244224  204.570070  104.263335   NaN   \n",
       "2023-11-13   NaN  224.761449  114.489559  208.876808  106.095195   NaN   \n",
       "\n",
       "stock_id         0055       0056       0057  0058  ...       9944        9945  \\\n",
       "date                                               ...                          \n",
       "2007-04-23        NaN        NaN        NaN   NaN  ...  31.000000   30.350000   \n",
       "2007-04-24        NaN        NaN        NaN   NaN  ...  32.000000   30.500000   \n",
       "2007-04-25        NaN        NaN        NaN   NaN  ...  32.300000   29.500000   \n",
       "2007-04-26        NaN        NaN        NaN   NaN  ...  31.600000   29.150000   \n",
       "2007-04-27        NaN        NaN        NaN   NaN  ...  31.400000   28.500000   \n",
       "...               ...        ...        ...   ...  ...        ...         ...   \n",
       "2023-11-07  35.575227  78.479239  96.488706   NaN  ...  34.208633  147.317862   \n",
       "2023-11-08  35.530043  79.189977  96.696880   NaN  ...  34.297027  148.829922   \n",
       "2023-11-09  35.545104  79.212904        NaN   NaN  ...  34.385421  148.397905   \n",
       "2023-11-10  35.499920  78.937780        NaN   NaN  ...  34.562210  147.533871   \n",
       "2023-11-13  35.484858  79.189977  98.154099   NaN  ...  34.385421  149.909965   \n",
       "\n",
       "stock_id         9946       9949       9950        9951       9955  \\\n",
       "date                                                                 \n",
       "2007-04-23   9.780000  73.600000  13.250000   51.300000  72.400000   \n",
       "2007-04-24   9.910000  75.000000  13.250000   50.500000  71.600000   \n",
       "2007-04-25  10.100000  74.600000  13.300000   49.900000  71.600000   \n",
       "2007-04-26  10.800000  74.500000  13.250000   49.500000  71.000000   \n",
       "2007-04-27  11.550000  75.700000  13.150000   48.800000  69.500000   \n",
       "...               ...        ...        ...         ...        ...   \n",
       "2023-11-07  43.562246  20.720798  52.308071  169.441653  30.856413   \n",
       "2023-11-08  44.138466  20.865699  50.289163  168.991010  30.474684   \n",
       "2023-11-09  43.447002  20.865699  48.912634  169.666974  29.711226   \n",
       "2023-11-10  42.870782  20.793248  46.985495  168.089725  29.965712   \n",
       "2023-11-13  43.677490  20.793248  45.517198  174.173401  29.647605   \n",
       "\n",
       "stock_id          9958       9960       9962  \n",
       "date                                          \n",
       "2007-04-23         NaN  46.000000  49.600000  \n",
       "2007-04-24         NaN  45.900000  50.400000  \n",
       "2007-04-25         NaN  49.100000  49.100000  \n",
       "2007-04-26         NaN  48.900000  48.000000  \n",
       "2007-04-27         NaN  48.600000  46.500000  \n",
       "...                ...        ...        ...  \n",
       "2023-11-07  216.867838  75.665057  43.314584  \n",
       "2023-11-08  227.711229  76.829135  42.825153  \n",
       "2023-11-09  233.907453  75.810567  42.702796  \n",
       "2023-11-10  246.299901  75.956077  42.580438  \n",
       "2023-11-13  257.143293  76.101586  42.458080  \n",
       "\n",
       "[4081 rows x 2045 columns]"
      ]
     },
     "execution_count": 48,
     "metadata": {},
     "output_type": "execute_result"
    }
   ],
   "source": [
    "close"
   ]
  },
  {
   "cell_type": "markdown",
   "metadata": {},
   "source": [
    "### 計算features"
   ]
  },
  {
   "cell_type": "code",
   "execution_count": 49,
   "metadata": {
    "tags": []
   },
   "outputs": [],
   "source": [
    "def bias(n):\n",
    "    return close / close.rolling(n, min_periods=1).mean()\n",
    "\n",
    "def acc(n):\n",
    "    return close.shift(n) / (close.shift(2*n) + close) * 2\n",
    "\n",
    "def rsv(n):\n",
    "    l = close.rolling(n, min_periods=1).min()\n",
    "    h = close.rolling(n, min_periods=1).max()\n",
    "    \n",
    "    return (close - l) / (h - l)\n",
    "\n",
    "def mom(n):\n",
    "    return (rev / rev.shift(1)).shift(n)\n",
    "\n",
    "#####上為原版資料###\n",
    "def yoy(n):\n",
    "    denominator = rev.shift(12 + n)\n",
    "    result = rev.shift(n) / denominator - 1\n",
    "    result[denominator < 0] = 0  # 如果分母为负，将对应的结果设置为0\n",
    "    return result\n",
    "\n",
    "def delta_yoy(n):\n",
    "    yoy_current = yoy(n)\n",
    "    yoy_previous = yoy(n + 1)\n",
    "    delta = yoy_current - yoy_previous\n",
    "    return delta\n",
    "\n",
    "def willr(n):\n",
    "    highest_high = high.rolling(n, min_periods=1).max()\n",
    "    lowest_low = low.rolling(n, min_periods=1).min()\n",
    "    willr = (highest_high - close) / (highest_high - lowest_low) * -100\n",
    "    return willr\n",
    "\n",
    "def linearreg_slope(n):\n",
    "    slope = (close - close.shift(n)) / n\n",
    "    return slope\n",
    "\n",
    "def adx(n):\n",
    "    true_range = high - low\n",
    "    true_range = true_range.fillna(0)\n",
    "    \n",
    "    plus_dm = high.diff()\n",
    "    minus_dm = low.diff()\n",
    "    plus_dm[plus_dm < 0] = 0\n",
    "    minus_dm[minus_dm > 0] = 0\n",
    "    \n",
    "    plus_dm = plus_dm.rolling(n).sum()\n",
    "    minus_dm = minus_dm.abs().rolling(n).sum()\n",
    "    \n",
    "    tr_sum = true_range.rolling(n).sum()\n",
    "    tr_sum[tr_sum == 0] = 0.0001\n",
    "    \n",
    "    plus_di = (plus_dm / tr_sum) * 100\n",
    "    minus_di = (minus_dm / tr_sum) * 100\n",
    "    \n",
    "    dx = ((plus_di - minus_di).abs() / (plus_di + minus_di).abs()) * 100\n",
    "    adx = dx.rolling(n).mean()\n",
    "    \n",
    "    return adx\n",
    "\n",
    "\n",
    "def adxr(n):\n",
    "    adx_value = adx(n)  # 先計算ADX值\n",
    "    adxr = adx_value.rolling(n).mean()  # 計算ADX值的平均值\n",
    "    return adxr\n",
    "\n",
    "def rsi(n):\n",
    "    diff = close.diff()\n",
    "    up = diff.where(diff > 0, 0)\n",
    "    down = -diff.where(diff < 0, 0)\n",
    "    avg_gain = up.rolling(n).mean()\n",
    "    avg_loss = down.rolling(n).mean()\n",
    "    rs = avg_gain / avg_loss\n",
    "    rsi = 100 - (100 / (1 + rs))\n",
    "    return rsi\n",
    "\n",
    "def kd(n):\n",
    "    l = close.rolling(n).min()\n",
    "    h = close.rolling(n).max()\n",
    "    rsv = (close - l) / (h - l)\n",
    "    k = rsv.rolling(3).mean()\n",
    "    d = k.rolling(3).mean()\n",
    "    return k - d\n",
    "\n",
    "\n",
    "#---------\n",
    "\n",
    "def ma_ratio(n):\n",
    "    ma_short = close.rolling(n).mean()\n",
    "    ma_long = close.rolling(2 * n).mean()\n",
    "    return ma_short / ma_long\n",
    "\n",
    "def volume_change(n):\n",
    "    return vol.pct_change(n)\n",
    "\n",
    "def range_ratio(n):\n",
    "    range_high = high.rolling(n).max()\n",
    "    range_low = low.rolling(n).min()\n",
    "    return (range_high - range_low) / range_low\n"
   ]
  },
  {
   "cell_type": "raw",
   "metadata": {},
   "source": [
    "features = {\n",
    "    'mom{}'.format(n): mom(n) for n in range(1, 10)\n",
    "}\n",
    "\n",
    "features.update({\n",
    "    'bias_{}'.format(n): bias(n) for n in [5, 60, 120, 240]\n",
    "})\n",
    "\n",
    "features.update({\n",
    "    'acc_{}'.format(n): acc(n) for n in [5, 10, 20, 60, 120, 240]\n",
    "})\n",
    "\n",
    "features.update({\n",
    "    'rsv_{}'.format(n): rsv(n) for n in [60, 120, 240]\n",
    "})"
   ]
  },
  {
   "cell_type": "code",
   "execution_count": 50,
   "metadata": {},
   "outputs": [
    {
     "ename": "KeyboardInterrupt",
     "evalue": "",
     "output_type": "error",
     "traceback": [
      "\u001b[0;31m---------------------------------------------------------------------------\u001b[0m",
      "\u001b[0;31mKeyboardInterrupt\u001b[0m                         Traceback (most recent call last)",
      "\u001b[0;32m/tmp/ipykernel_75832/1364126730.py\u001b[0m in \u001b[0;36m<module>\u001b[0;34m\u001b[0m\n\u001b[1;32m      1\u001b[0m features = {\n\u001b[0;32m----> 2\u001b[0;31m     \u001b[0;34m'mom{}'\u001b[0m\u001b[0;34m.\u001b[0m\u001b[0mformat\u001b[0m\u001b[0;34m(\u001b[0m\u001b[0mn\u001b[0m\u001b[0;34m)\u001b[0m\u001b[0;34m:\u001b[0m \u001b[0mmom\u001b[0m\u001b[0;34m(\u001b[0m\u001b[0mn\u001b[0m\u001b[0;34m)\u001b[0m \u001b[0;32mfor\u001b[0m \u001b[0mn\u001b[0m \u001b[0;32min\u001b[0m \u001b[0mrange\u001b[0m\u001b[0;34m(\u001b[0m\u001b[0;36m1\u001b[0m\u001b[0;34m,\u001b[0m \u001b[0;36m10\u001b[0m\u001b[0;34m)\u001b[0m\u001b[0;34m\u001b[0m\u001b[0;34m\u001b[0m\u001b[0m\n\u001b[0m\u001b[1;32m      3\u001b[0m }\n\u001b[1;32m      4\u001b[0m \u001b[0;34m\u001b[0m\u001b[0m\n\u001b[1;32m      5\u001b[0m features.update({\n",
      "\u001b[0;31mKeyboardInterrupt\u001b[0m: "
     ]
    }
   ],
   "source": [
    "features = {\n",
    "    'mom{}'.format(n): mom(n) for n in range(1, 10)\n",
    "}\n",
    "\n",
    "features.update({\n",
    "    'bias_{}'.format(n): bias(n) for n in [5, 60, 120, 240]\n",
    "})\n",
    "\n",
    "#features.update({\n",
    "#    'PB': PB,\n",
    "#    'PE': pe,\n",
    "#    'DY': DY\n",
    "#})\n",
    "#\n",
    "\n",
    "features.update({\n",
    "    'acc_{}'.format(n): acc(n) for n in [5, 10, 20, 60, 120, 240]\n",
    "})\n",
    "\n",
    "features.update({\n",
    "    'rsv_{}'.format(n): rsv(n) for n in [60, 120, 240]\n",
    "})\n",
    "\n",
    "####上為原版資料###\n",
    "#features.update({\n",
    "#    'yoy_{}'.format(n): yoy(n) for n in range(0, 0)\n",
    "#})\n",
    "#features.update({\n",
    "#    'delta_yoy_{}'.format(n): delta_yoy(n) for n in range(0, 2)\n",
    "#})\n",
    "#\n",
    "#features.update({\n",
    "#    'willr_{}'.format(n): willr(n) for n in [14, 20, 60]\n",
    "#})\n",
    "#\n",
    "#features.update({\n",
    "#    'linearreg_slope_{}'.format(n): linearreg_slope(n) for n in [14, 112, 224]\n",
    "#})\n",
    "#\n",
    "#features.update({\n",
    "#    f'kd_{n}': kd(n) for n in [ 9, 14, 20, 60]\n",
    "#})\n",
    "#\n",
    "#features.update({\n",
    "#    'adxr_{}'.format(n): adxr(n) for n in [14, 20, 30]\n",
    "#})\n",
    "\n",
    "#features.update({\n",
    "#    'ma_ratio_{}'.format(n): ma_ratio(n) for n in [20, 40, 60]\n",
    "#})\n",
    "#\n",
    "#features.update({\n",
    "#    'volume_change_{}'.format(n): volume_change(n) for n in [20, 40, 60, 120]\n",
    "#})\n",
    "\n",
    "#features.update({\n",
    "#    'range_ratio_{}'.format(n): range_ratio(n) for n in [10, 30, 60]\n",
    "#})\n",
    "#"
   ]
  },
  {
   "cell_type": "code",
   "execution_count": null,
   "metadata": {},
   "outputs": [],
   "source": [
    "#import pandas as pd\n",
    "#t1 = pd.read_pickle(\"history/items/bargin_report/外陸資買賣超股數(不含外資自營商).pkl\")\n",
    "#t2 = pd.read_pickle(\"history/items/bargin_report/投信買賣超股數.pkl\")\n",
    "#t3 = pd.read_pickle(\"history/items/bargin_report/自營商買賣超股數(自行買賣).pkl\")"
   ]
  },
  {
   "cell_type": "markdown",
   "metadata": {},
   "source": [
    "### 製作dataset\n",
    "\n",
    "##### 設定買賣頻率"
   ]
  },
  {
   "cell_type": "code",
   "execution_count": null,
   "metadata": {},
   "outputs": [],
   "source": [
    "every_month = rev.index\n",
    "every_month"
   ]
  },
  {
   "cell_type": "markdown",
   "metadata": {},
   "source": [
    "##### 將dataframe 組裝起來"
   ]
  },
  {
   "cell_type": "code",
   "execution_count": null,
   "metadata": {},
   "outputs": [],
   "source": [
    "# features['bias20'].reindex(every_month, method='ffill')\n",
    "\n",
    "for name, f in features.items():\n",
    "    features[name] = f.reindex(every_month, method='ffill')"
   ]
  },
  {
   "cell_type": "code",
   "execution_count": null,
   "metadata": {},
   "outputs": [],
   "source": [
    "\n",
    "for name, f in features.items():\n",
    "    features[name] = f.unstack()"
   ]
  },
  {
   "cell_type": "code",
   "execution_count": null,
   "metadata": {},
   "outputs": [],
   "source": [
    "import pandas as pd\n",
    "dataset = pd.DataFrame(features)"
   ]
  },
  {
   "cell_type": "code",
   "execution_count": null,
   "metadata": {},
   "outputs": [],
   "source": [
    "##我要把金融股拿掉 所以把28開頭全去掉\n",
    "#dataset = dataset[~dataset.index.get_level_values('stock_id').str.startswith('28')]"
   ]
  },
  {
   "cell_type": "code",
   "execution_count": null,
   "metadata": {},
   "outputs": [],
   "source": [
    "feature_names = list(dataset.columns)\n",
    "feature_names"
   ]
  },
  {
   "cell_type": "code",
   "execution_count": null,
   "metadata": {},
   "outputs": [],
   "source": [
    "from ml_finlab import ml\n",
    "\n",
    "vol=data.get('成交股數')/1000\n",
    "vol_ma5=vol.rolling(20).mean()\n",
    "\n",
    "股本 = data.get('股本合計').reindex(close.index, method='ffill')\n",
    "市值 = 股本 * close / 10 * 1000"
   ]
  },
  {
   "cell_type": "code",
   "execution_count": null,
   "metadata": {},
   "outputs": [],
   "source": [
    "ml.add_feature(dataset, 'vol_ma5', vol_ma5)\n",
    "\n",
    "ml.add_feature(dataset, '市值', 市值)"
   ]
  },
  {
   "cell_type": "markdown",
   "metadata": {},
   "source": [
    "### 新增 label"
   ]
  },
  {
   "cell_type": "code",
   "execution_count": null,
   "metadata": {},
   "outputs": [],
   "source": [
    "from ml_finlab import ml\n",
    "\n",
    "ml.add_profit_prediction(dataset)\n",
    "ml.add_rank_prediction(dataset)"
   ]
  },
  {
   "cell_type": "markdown",
   "metadata": {},
   "source": [
    "### 刪除太大太小的歷史資料"
   ]
  },
  {
   "cell_type": "code",
   "execution_count": null,
   "metadata": {},
   "outputs": [],
   "source": [
    "print(dataset.shape)\n",
    "\n",
    "def drop_extreme_case(dataset, feature_names, thresh=0.01):\n",
    "    \n",
    "    extreme_cases = pd.Series(False, index=dataset.index)\n",
    "    for f in feature_names:\n",
    "        tf = dataset[f]\n",
    "        extreme_cases = extreme_cases | (tf < tf.quantile(thresh)) | (tf > tf.quantile(1-thresh))\n",
    "    dataset = dataset[~extreme_cases]\n",
    "    return dataset\n",
    "\n",
    "dataset_drop_extreme_case = drop_extreme_case(dataset,\n",
    "                                              feature_names, thresh=0.01)\n",
    "\n",
    "print(dataset_drop_extreme_case.shape)"
   ]
  },
  {
   "cell_type": "code",
   "execution_count": null,
   "metadata": {},
   "outputs": [],
   "source": [
    "dataset_dropna = dataset_drop_extreme_case.dropna(how='any')\n",
    "dataset_dropna = dataset_dropna.reset_index().set_index(\"date\")"
   ]
  },
  {
   "cell_type": "code",
   "execution_count": null,
   "metadata": {},
   "outputs": [],
   "source": [
    "dataset_drop_extreme_case.index.get_level_values(\"date\")"
   ]
  },
  {
   "cell_type": "code",
   "execution_count": null,
   "metadata": {},
   "outputs": [],
   "source": [
    "dataset_drop_extreme_case.dropna(how='any')"
   ]
  },
  {
   "cell_type": "markdown",
   "metadata": {},
   "source": [
    "## Split Train Test dataset"
   ]
  },
  {
   "cell_type": "code",
   "execution_count": null,
   "metadata": {},
   "outputs": [],
   "source": [
    "dataset_unique = dataset_dropna.index.astype(str).drop_duplicates().sort_values()\n",
    "dataset_unique\n",
    "\n",
    "# 計算要分割的索引位置\n",
    "split_index = int(len(dataset_unique) * 0.8)\n",
    "Bef = dataset_unique[split_index] \n",
    "Aft = dataset_unique[split_index+1]\n",
    "\n",
    "\n",
    "# 分割資料集\n",
    "dataset_train = dataset_dropna.loc[:Bef]\n",
    "dataset_test = dataset_dropna.loc[Aft:]\n",
    "print(f'切割時間在{Bef}之前與{Aft}後')"
   ]
  },
  {
   "cell_type": "code",
   "execution_count": null,
   "metadata": {},
   "outputs": [],
   "source": [
    "#profit(return) rank\n",
    "predi_target = 'rank'"
   ]
  },
  {
   "cell_type": "code",
   "execution_count": null,
   "metadata": {},
   "outputs": [],
   "source": [
    "train = dataset_train[feature_names].astype(float) , dataset_train[predi_target] #> 1.00\n",
    "test = dataset_test[feature_names].astype(float) , dataset_test[predi_target] #> 1.00"
   ]
  },
  {
   "cell_type": "markdown",
   "metadata": {},
   "source": [
    "### 1.神經網路模型"
   ]
  },
  {
   "cell_type": "code",
   "execution_count": null,
   "metadata": {},
   "outputs": [],
   "source": [
    "from tensorflow import keras\n",
    "\n",
    "tf_callback = keras.callbacks.TensorBoard(log_dir=\"./logs\")"
   ]
  },
  {
   "cell_type": "code",
   "execution_count": null,
   "metadata": {
    "scrolled": true
   },
   "outputs": [],
   "source": [
    "import os\n",
    "\n",
    "#from tensorflow import keras\n",
    "from tensorflow.keras import layers\n",
    "from tensorflow.keras import initializers\n",
    "from tensorflow.keras.callbacks import ModelCheckpoint, EarlyStopping\n",
    "\n",
    "#os.environ['KMP_DUPLICATE_LIB_OK'] = 'True'\n",
    "#\n",
    "## 建立模型\n",
    "#model = keras.models.Sequential()\n",
    "#model.add(layers.BatchNormalization(input_shape=(len(feature_names),)))\n",
    "#model.add(layers.Dense(100, activation='relu',\n",
    "#                      kernel_initializer=initializers.he_normal(seed=0)))\n",
    "#model.add(layers.Dropout(0.4))\n",
    "#model.add(layers.Dense(100, activation='relu',\n",
    "#                      kernel_initializer=initializers.he_normal(seed=0)))\n",
    "#model.add(layers.Dropout(0.4))\n",
    "#model.add(layers.Dense(1, activation='sigmoid'))\n",
    "\n",
    "os.environ['KMP_DUPLICATE_LIB_OK']='True'\n",
    "\n",
    "model = keras.models.Sequential()\n",
    "model.add(layers.Dense(100, activation='relu',\n",
    "                      input_shape=(len(feature_names),),\n",
    "                      kernel_initializer=initializers.he_normal(seed=0)))\n",
    "model.add(layers.Dense(100, activation='relu',\n",
    "                      kernel_initializer=initializers.he_normal(seed=0)))\n",
    "model.add(layers.Dropout(0.7))\n",
    "model.add(layers.Dense(1, activation='sigmoid'))\n",
    "\n",
    "# 摘要模型\n",
    "model.summary()\n",
    "\n",
    "# 建立優化器\n",
    "#optimizer = keras.optimizers.Adam(learning_rate=0.001)\n",
    "\n",
    "# 建立損失函數和評估指標\n",
    "model.compile(loss='mean_squared_error',\n",
    "              #optimizer=optimizer,\n",
    "              metrics=['accuracy'])\n",
    "\n",
    "# 設定早停\n",
    "es = EarlyStopping(monitor='val_loss', mode='min', verbose=1, patience=10)\n",
    "\n",
    "# 設定模型回檔\n",
    "get_best_model = keras.callbacks.ModelCheckpoint(\n",
    "    filepath='./best_model/v2_14.h5',\n",
    "    save_weights_only=True,\n",
    "    monitor='val_loss',\n",
    "    mode='min',\n",
    "    verbose=1,\n",
    "    patience=10,\n",
    "    save_best_only=True)\n",
    "\n",
    "# 訓練模型\n",
    "history = model.fit(dataset_train[feature_names], dataset_train[predi_target],\n",
    "                    batch_size=888,\n",
    "                    epochs=225,\n",
    "                    verbose=1,\n",
    "                    validation_split=0.1,\n",
    "                    callbacks=[get_best_model, tf_callback]) #es, get_best_model\n"
   ]
  },
  {
   "cell_type": "code",
   "execution_count": null,
   "metadata": {},
   "outputs": [],
   "source": [
    "#import os\n",
    "#os.environ['CUDA_VISIBLE_DEVICES'] = ''\n",
    "#import tensorflow as tf\n",
    "#tf.config.list_physical_devices('GPU')"
   ]
  },
  {
   "cell_type": "code",
   "execution_count": null,
   "metadata": {},
   "outputs": [],
   "source": [
    "import matplotlib.pyplot as plt\n",
    "\n",
    "plt.plot(model.predict(dataset[feature_names].astype(float)))"
   ]
  },
  {
   "cell_type": "code",
   "execution_count": null,
   "metadata": {
    "scrolled": true
   },
   "outputs": [],
   "source": [
    "#import os\n",
    "#from tensorflow import keras\n",
    "#from tensorflow.keras import layers\n",
    "#from tensorflow.keras import initializers\n",
    "##\n",
    "#os.environ['KMP_DUPLICATE_LIB_OK']='True'\n",
    "##\n",
    "#model = keras.models.Sequential()\n",
    "#model.add(layers.Dense(256, activation='relu',\n",
    "#                      input_shape=(len(feature_names),),\n",
    "#                      kernel_initializer=initializers.he_normal(seed=0)))\n",
    "#model.add(layers.Dense(128, activation='relu',\n",
    "#                      kernel_initializer=initializers.he_normal(seed=0)))\n",
    "#model.add(layers.Dropout(0.4))\n",
    "##model.add(layers.Dense(64, activation='relu',\n",
    "##                      kernel_initializer=initializers.he_normal(seed=0)))\n",
    "##model.add(layers.Dense(32, activation='relu',\n",
    "##                      kernel_initializer=initializers.he_normal(seed=0)))\n",
    "#model.add(layers.Dense(16, activation='relu',\n",
    "#                      kernel_initializer=initializers.he_normal(seed=0)))\n",
    "#model.add(layers.Dropout(0.3))\n",
    "#model.add(layers.Dense(1, activation='sigmoid'))\n",
    "##\n",
    "#model.summary()\n",
    "##\n",
    "#model.compile(loss='mean_squared_error',\n",
    "#              optimizer=\"adam\",)\n",
    "##\n",
    "#print('start fitting')\n",
    "#history = model.fit(dataset_train[feature_names], dataset_train['rank'],\n",
    "#                    batch_size=1000,\n",
    "#                    epochs=200,\n",
    "#                    verbose=1,\n",
    "#                    validation_split=0.1)\n",
    "##"
   ]
  },
  {
   "cell_type": "code",
   "execution_count": null,
   "metadata": {
    "scrolled": true,
    "tags": []
   },
   "outputs": [],
   "source": [
    "#import os\n",
    "#\n",
    "#from tensorflow import keras\n",
    "#from tensorflow.keras import layers\n",
    "#from tensorflow.keras import initializers\n",
    "#\n",
    "#os.environ['KMP_DUPLICATE_LIB_OK']='True'\n",
    "#\n",
    "#model = keras.models.Sequential()\n",
    "#model.add(layers.Dense(100, activation='relu',\n",
    "#                      input_shape=(len(feature_names),),\n",
    "#                      kernel_initializer=initializers.he_normal(seed=0)))\n",
    "#model.add(layers.Dense(100, activation='relu',\n",
    "#                      kernel_initializer=initializers.he_normal(seed=0)))\n",
    "#model.add(layers.Dropout(0.35))\n",
    "#model.add(layers.Dense(1, activation='sigmoid'))\n",
    "#\n",
    "#\n",
    "#model.summary()\n",
    "#\n",
    "#model.compile(loss='mean_squared_error',\n",
    "#              optimizer=\"adam\",)\n",
    "#\n",
    "#print('start fitting')\n",
    "#history = model.fit(dataset_train[feature_names], dataset_train['rank'],\n",
    "#                    batch_size=1000,\n",
    "#                    epochs=225,\n",
    "#                    verbose=1,\n",
    "#                    validation_split=0.1, )"
   ]
  },
  {
   "cell_type": "markdown",
   "metadata": {},
   "source": [
    "#### 結果"
   ]
  },
  {
   "cell_type": "code",
   "execution_count": null,
   "metadata": {},
   "outputs": [],
   "source": [
    "import matplotlib.pyplot as plt\n",
    "%matplotlib inline\n",
    "\n",
    "# 訓練過程中的損失函數\n",
    "train_loss = history.history['loss'][1:]\n",
    "val_loss = history.history['val_loss'][1:]\n",
    "\n",
    "# 繪製損失函數圖表\n",
    "plt.plot(range(len(train_loss)), train_loss, label='Training Loss')\n",
    "plt.plot(range(len(val_loss)), val_loss, label='Validation Loss')\n",
    "plt.xlabel('Epochs')\n",
    "plt.ylabel('Loss')\n",
    "plt.title('Training and Validation Loss')\n",
    "plt.legend()\n",
    "plt.show()"
   ]
  },
  {
   "cell_type": "markdown",
   "metadata": {},
   "source": [
    "### 2.lightgbm Model"
   ]
  },
  {
   "cell_type": "code",
   "execution_count": null,
   "metadata": {},
   "outputs": [],
   "source": [
    "import lightgbm as lgb\n",
    "from scipy.stats import randint as sp_randint\n",
    "from scipy.stats import uniform as sp_uniform\n",
    "from sklearn.model_selection import RandomizedSearchCV\n",
    "\n",
    "fit_params = {\n",
    "    \"early_stopping_rounds\": 30,\n",
    "    \"eval_metric\": 'rmse',  # 設置為 RMSE\n",
    "    \"eval_set\": [(test[0], test[1])],\n",
    "    'eval_names': ['valid'],\n",
    "    'verbose': 100,\n",
    "    'categorical_feature': 'auto'\n",
    "}\n",
    "\n",
    "param_test = {\n",
    "    'num_leaves': sp_randint(10, 100),\n",
    "    'min_child_samples': sp_randint(50, 200),\n",
    "    'min_child_weight': [1e-5, 1e-3, 1e-2, 1e-1, 1, 1e1, 1e2, 1e3, 1e4],\n",
    "    'subsample': sp_uniform(loc=0.1, scale=0.9),\n",
    "    'colsample_bytree': sp_uniform(loc=0.2, scale=0.8),\n",
    "    'reg_alpha': [0, 1e-1, 1, 2, 5, 7, 10, 50, 100],\n",
    "    'reg_lambda': [0, 1e-1, 1, 5, 10, 20, 50, 100]\n",
    "}\n",
    "\n",
    "# 調整為較小的值，例如100\n",
    "n_HP_points_to_test = 100\n",
    "\n",
    "# 將n_estimators設置為10000\n",
    "clf = lgb.LGBMRegressor(max_depth=-1, random_state=314, silent=True, metric='None', n_jobs=4, n_estimators=10000)\n",
    "\n",
    "gs = RandomizedSearchCV(\n",
    "    estimator=clf, param_distributions=param_test,\n",
    "    n_iter=n_HP_points_to_test,\n",
    "    scoring='neg_mean_squared_error',\n",
    "    cv=3,\n",
    "    refit=True,\n",
    "    random_state=314,\n",
    "    verbose=True\n",
    ")\n"
   ]
  },
  {
   "cell_type": "code",
   "execution_count": null,
   "metadata": {
    "scrolled": true
   },
   "outputs": [],
   "source": [
    "# 替換為實際的訓練數據和適合的參數\n",
    "gs.fit(*train, **fit_params)"
   ]
  },
  {
   "cell_type": "code",
   "execution_count": null,
   "metadata": {},
   "outputs": [],
   "source": [
    "best_params = gs.best_params_\n",
    "print(\"Best Parameters:\", best_params)\n",
    "print(\"----------------\")\n",
    "gs_best_model = lgb.LGBMRegressor(**best_params )\n",
    "gs_best_model.fit(*train)"
   ]
  },
  {
   "cell_type": "markdown",
   "metadata": {},
   "source": [
    "#### 結果"
   ]
  },
  {
   "cell_type": "code",
   "execution_count": 52,
   "metadata": {},
   "outputs": [
    {
     "name": "stdout",
     "output_type": "stream",
     "text": [
      "#Training accuracy 0.0712\n",
      "#Testing accuracy 0.0123\n"
     ]
    }
   ],
   "source": [
    "print('#Training accuracy {:.4f}'.format(gs_best_model.score(*train)))\n",
    "print('#Testing accuracy {:.4f}'.format(gs_best_model.score(*test)))\n",
    "\n",
    "#l1那個\n",
    "#Training accuracy 0.1127\n",
    "#Testing accuracy -0.0138\n",
    "\n",
    "#Training accuracy 0.0581\n",
    "#Testing accuracy -0.0043\n",
    "\n",
    "#Training accuracy 0.1361\n",
    "#Testing accuracy -0.0167\n",
    "\n"
   ]
  },
  {
   "cell_type": "code",
   "execution_count": 53,
   "metadata": {
    "scrolled": true
   },
   "outputs": [
    {
     "data": {
      "text/plain": [
       "<AxesSubplot:xlabel='Value', ylabel='Feature'>"
      ]
     },
     "execution_count": 53,
     "metadata": {},
     "output_type": "execute_result"
    },
    {
     "data": {
      "image/png": "[encoded data removed]",
      "text/plain": [
       "<Figure size 1000x1000 with 1 Axes>"
      ]
     },
     "metadata": {},
     "output_type": "display_data"
    }
   ],
   "source": [
    "feature_imp = pd.DataFrame(zip(gs_best_model.feature_importances_, feature_names), \n",
    "                           columns=['Value','Feature']).sort_values('Value', ascending=False)\n",
    "feature_imp\n",
    "\n",
    "%matplotlib inline\n",
    "import seaborn as sns\n",
    "plt.figure(figsize=(10,10))\n",
    "sns.barplot(x=\"Value\", y=\"Feature\", data=feature_imp)"
   ]
  },
  {
   "cell_type": "markdown",
   "metadata": {},
   "source": [
    "### 3.xgboost Model"
   ]
  },
  {
   "cell_type": "code",
   "execution_count": 54,
   "metadata": {},
   "outputs": [
    {
     "data": {
      "text/plain": [
       "-0.008489463555824805"
      ]
     },
     "execution_count": 54,
     "metadata": {},
     "output_type": "execute_result"
    }
   ],
   "source": [
    "import xgboost as xgb\n",
    "import os\n",
    "os.environ['KMP_DUPLICATE_LIB_OK']='True'\n",
    "\n",
    "cf_xgb = xgb.XGBRegressor()\n",
    "cf_xgb.fit(*train)\n",
    "cf_xgb.score(*test)"
   ]
  },
  {
   "cell_type": "code",
   "execution_count": 55,
   "metadata": {
    "scrolled": true
   },
   "outputs": [
    {
     "name": "stdout",
     "output_type": "stream",
     "text": [
      "Fitting 2 folds for each of 20 candidates, totalling 40 fits\n",
      "[CV] END colsample_bylevel=0.5, colsample_bytree=0.4, gamma=0, learning_rate=0.01, max_depth=6, min_child_weight=5.0, n_estimators=100, reg_lambda=50.0, subsample=0.7; total time=   1.6s\n",
      "[CV] END colsample_bylevel=0.5, colsample_bytree=0.4, gamma=0, learning_rate=0.01, max_depth=6, min_child_weight=5.0, n_estimators=100, reg_lambda=50.0, subsample=0.7; total time=   1.6s\n",
      "[CV] END colsample_bylevel=0.9, colsample_bytree=0.7, gamma=1.0, learning_rate=0.01, max_depth=20, min_child_weight=1.0, n_estimators=100, reg_lambda=1.0, subsample=0.6; total time=  17.2s\n",
      "[CV] END colsample_bylevel=0.9, colsample_bytree=0.7, gamma=1.0, learning_rate=0.01, max_depth=20, min_child_weight=1.0, n_estimators=100, reg_lambda=1.0, subsample=0.6; total time=  17.0s\n",
      "[CV] END colsample_bylevel=0.5, colsample_bytree=0.4, gamma=0.5, learning_rate=0.1, max_depth=15, min_child_weight=7.0, n_estimators=100, reg_lambda=50.0, subsample=0.9; total time=   1.8s\n",
      "[CV] END colsample_bylevel=0.5, colsample_bytree=0.4, gamma=0.5, learning_rate=0.1, max_depth=15, min_child_weight=7.0, n_estimators=100, reg_lambda=50.0, subsample=0.9; total time=   1.8s\n",
      "[CV] END colsample_bylevel=0.7, colsample_bytree=0.4, gamma=0, learning_rate=0.2, max_depth=10, min_child_weight=7.0, n_estimators=100, reg_lambda=1.0, subsample=0.5; total time=   0.5s\n",
      "[CV] END colsample_bylevel=0.7, colsample_bytree=0.4, gamma=0, learning_rate=0.2, max_depth=10, min_child_weight=7.0, n_estimators=100, reg_lambda=1.0, subsample=0.5; total time=   0.5s\n",
      "[CV] END colsample_bylevel=0.6, colsample_bytree=0.4, gamma=1.0, learning_rate=0.3, max_depth=20, min_child_weight=10.0, n_estimators=100, reg_lambda=5.0, subsample=0.7; total time=   0.9s\n",
      "[CV] END colsample_bylevel=0.6, colsample_bytree=0.4, gamma=1.0, learning_rate=0.3, max_depth=20, min_child_weight=10.0, n_estimators=100, reg_lambda=5.0, subsample=0.7; total time=   0.9s\n",
      "[CV] END colsample_bylevel=0.9, colsample_bytree=0.6, gamma=0.25, learning_rate=0.001, max_depth=15, min_child_weight=1.0, n_estimators=100, reg_lambda=10.0, subsample=0.6; total time=  10.1s\n",
      "[CV] END colsample_bylevel=0.9, colsample_bytree=0.6, gamma=0.25, learning_rate=0.001, max_depth=15, min_child_weight=1.0, n_estimators=100, reg_lambda=10.0, subsample=0.6; total time=  10.2s\n",
      "[CV] END colsample_bylevel=0.4, colsample_bytree=1.0, gamma=0.25, learning_rate=0.1, max_depth=15, min_child_weight=5.0, n_estimators=100, reg_lambda=0.1, subsample=0.5; total time=   0.8s\n",
      "[CV] END colsample_bylevel=0.4, colsample_bytree=1.0, gamma=0.25, learning_rate=0.1, max_depth=15, min_child_weight=5.0, n_estimators=100, reg_lambda=0.1, subsample=0.5; total time=   0.8s\n",
      "[CV] END colsample_bylevel=1.0, colsample_bytree=0.4, gamma=0.25, learning_rate=0.1, max_depth=10, min_child_weight=7.0, n_estimators=100, reg_lambda=5.0, subsample=0.5; total time=   1.1s\n",
      "[CV] END colsample_bylevel=1.0, colsample_bytree=0.4, gamma=0.25, learning_rate=0.1, max_depth=10, min_child_weight=7.0, n_estimators=100, reg_lambda=5.0, subsample=0.5; total time=   1.1s\n",
      "[CV] END colsample_bylevel=0.4, colsample_bytree=0.7, gamma=0, learning_rate=0.2, max_depth=15, min_child_weight=0.5, n_estimators=100, reg_lambda=10.0, subsample=0.9; total time=   1.0s\n",
      "[CV] END colsample_bylevel=0.4, colsample_bytree=0.7, gamma=0, learning_rate=0.2, max_depth=15, min_child_weight=0.5, n_estimators=100, reg_lambda=10.0, subsample=0.9; total time=   1.1s\n",
      "[CV] END colsample_bylevel=0.5, colsample_bytree=0.4, gamma=1.0, learning_rate=0.2, max_depth=20, min_child_weight=7.0, n_estimators=100, reg_lambda=100.0, subsample=0.8; total time=   2.0s\n",
      "[CV] END colsample_bylevel=0.5, colsample_bytree=0.4, gamma=1.0, learning_rate=0.2, max_depth=20, min_child_weight=7.0, n_estimators=100, reg_lambda=100.0, subsample=0.8; total time=   2.4s\n",
      "[CV] END colsample_bylevel=0.8, colsample_bytree=0.6, gamma=0, learning_rate=0.2, max_depth=15, min_child_weight=0.5, n_estimators=100, reg_lambda=1.0, subsample=0.5; total time=   1.0s\n",
      "[CV] END colsample_bylevel=0.8, colsample_bytree=0.6, gamma=0, learning_rate=0.2, max_depth=15, min_child_weight=0.5, n_estimators=100, reg_lambda=1.0, subsample=0.5; total time=   1.0s\n",
      "[CV] END colsample_bylevel=0.4, colsample_bytree=0.9, gamma=0, learning_rate=0.01, max_depth=10, min_child_weight=0.5, n_estimators=100, reg_lambda=10.0, subsample=0.5; total time=   4.1s\n",
      "[CV] END colsample_bylevel=0.4, colsample_bytree=0.9, gamma=0, learning_rate=0.01, max_depth=10, min_child_weight=0.5, n_estimators=100, reg_lambda=10.0, subsample=0.5; total time=   4.1s\n",
      "[CV] END colsample_bylevel=0.5, colsample_bytree=0.7, gamma=0, learning_rate=0.1, max_depth=20, min_child_weight=0.5, n_estimators=100, reg_lambda=50.0, subsample=0.8; total time=   2.4s\n",
      "[CV] END colsample_bylevel=0.5, colsample_bytree=0.7, gamma=0, learning_rate=0.1, max_depth=20, min_child_weight=0.5, n_estimators=100, reg_lambda=50.0, subsample=0.8; total time=   2.2s\n",
      "[CV] END colsample_bylevel=0.5, colsample_bytree=0.8, gamma=0, learning_rate=0.01, max_depth=10, min_child_weight=7.0, n_estimators=100, reg_lambda=100.0, subsample=0.6; total time=   4.3s\n",
      "[CV] END colsample_bylevel=0.5, colsample_bytree=0.8, gamma=0, learning_rate=0.01, max_depth=10, min_child_weight=7.0, n_estimators=100, reg_lambda=100.0, subsample=0.6; total time=   4.3s\n",
      "[CV] END colsample_bylevel=0.6, colsample_bytree=0.6, gamma=0, learning_rate=0.01, max_depth=20, min_child_weight=7.0, n_estimators=100, reg_lambda=100.0, subsample=0.6; total time=   8.3s\n",
      "[CV] END colsample_bylevel=0.6, colsample_bytree=0.6, gamma=0, learning_rate=0.01, max_depth=20, min_child_weight=7.0, n_estimators=100, reg_lambda=100.0, subsample=0.6; total time=   8.3s\n",
      "[CV] END colsample_bylevel=0.4, colsample_bytree=0.6, gamma=0.25, learning_rate=0.1, max_depth=15, min_child_weight=1.0, n_estimators=100, reg_lambda=5.0, subsample=0.7; total time=   1.4s\n",
      "[CV] END colsample_bylevel=0.4, colsample_bytree=0.6, gamma=0.25, learning_rate=0.1, max_depth=15, min_child_weight=1.0, n_estimators=100, reg_lambda=5.0, subsample=0.7; total time=   1.4s\n",
      "[CV] END colsample_bylevel=0.6, colsample_bytree=0.9, gamma=0, learning_rate=0.01, max_depth=6, min_child_weight=10.0, n_estimators=100, reg_lambda=0.1, subsample=0.6; total time=   3.2s\n",
      "[CV] END colsample_bylevel=0.6, colsample_bytree=0.9, gamma=0, learning_rate=0.01, max_depth=6, min_child_weight=10.0, n_estimators=100, reg_lambda=0.1, subsample=0.6; total time=   3.2s\n",
      "[CV] END colsample_bylevel=0.4, colsample_bytree=0.7, gamma=1.0, learning_rate=0.001, max_depth=6, min_child_weight=0.5, n_estimators=100, reg_lambda=10.0, subsample=0.7; total time=   2.5s\n",
      "[CV] END colsample_bylevel=0.4, colsample_bytree=0.7, gamma=1.0, learning_rate=0.001, max_depth=6, min_child_weight=0.5, n_estimators=100, reg_lambda=10.0, subsample=0.7; total time=   2.5s\n",
      "[CV] END colsample_bylevel=1.0, colsample_bytree=0.7, gamma=0.5, learning_rate=0.01, max_depth=6, min_child_weight=3.0, n_estimators=100, reg_lambda=50.0, subsample=0.6; total time=   4.1s\n",
      "[CV] END colsample_bylevel=1.0, colsample_bytree=0.7, gamma=0.5, learning_rate=0.01, max_depth=6, min_child_weight=3.0, n_estimators=100, reg_lambda=50.0, subsample=0.6; total time=   4.1s\n",
      "[CV] END colsample_bylevel=0.6, colsample_bytree=0.8, gamma=0.5, learning_rate=0.1, max_depth=15, min_child_weight=1.0, n_estimators=100, reg_lambda=0.1, subsample=0.8; total time=   1.9s\n",
      "[CV] END colsample_bylevel=0.6, colsample_bytree=0.8, gamma=0.5, learning_rate=0.1, max_depth=15, min_child_weight=1.0, n_estimators=100, reg_lambda=0.1, subsample=0.8; total time=   1.8s\n"
     ]
    },
    {
     "data": {
      "text/plain": [
       "RandomizedSearchCV(cv=2,\n",
       "                   estimator=XGBRegressor(base_score=None, booster=None,\n",
       "                                          colsample_bylevel=None,\n",
       "                                          colsample_bynode=None,\n",
       "                                          colsample_bytree=None, gamma=None,\n",
       "                                          gpu_id=None, importance_type='gain',\n",
       "                                          interaction_constraints=None,\n",
       "                                          learning_rate=None,\n",
       "                                          max_delta_step=None, max_depth=None,\n",
       "                                          min_child_weight=None, missing=nan,\n",
       "                                          monotone_constraints=None,\n",
       "                                          n_estimators=100, n...\n",
       "                                                              1.0],\n",
       "                                        'colsample_bytree': [0.4, 0.5, 0.6, 0.7,\n",
       "                                                             0.8, 0.9, 1.0],\n",
       "                                        'gamma': [0, 0.25, 0.5, 1.0],\n",
       "                                        'learning_rate': [0.001, 0.01, 0.1, 0.2,\n",
       "                                                          0.3],\n",
       "                                        'max_depth': [6, 10, 15, 20],\n",
       "                                        'min_child_weight': [0.5, 1.0, 3.0, 5.0,\n",
       "                                                             7.0, 10.0],\n",
       "                                        'n_estimators': [100],\n",
       "                                        'reg_lambda': [0.1, 1.0, 5.0, 10.0,\n",
       "                                                       50.0, 100.0],\n",
       "                                        'subsample': [0.5, 0.6, 0.7, 0.8, 0.9,\n",
       "                                                      1.0]},\n",
       "                   random_state=42, scoring='neg_mean_squared_error',\n",
       "                   verbose=2)"
      ]
     },
     "execution_count": 55,
     "metadata": {},
     "output_type": "execute_result"
    }
   ],
   "source": [
    "import xgboost as xgb\n",
    "import os\n",
    "os.environ['KMP_DUPLICATE_LIB_OK']='True'\n",
    "\n",
    "from sklearn.model_selection import RandomizedSearchCV\n",
    "\n",
    "reg = xgb.XGBRegressor()\n",
    "param_grid = {\n",
    "    #'silent': [False],\n",
    "    'max_depth': [6, 10, 15, 20],\n",
    "    'learning_rate': [0.001, 0.01, 0.1, 0.2, 0.3],\n",
    "    'subsample': [0.5, 0.6, 0.7, 0.8, 0.9, 1.0],\n",
    "    'colsample_bytree': [0.4, 0.5, 0.6, 0.7, 0.8, 0.9, 1.0],\n",
    "    'colsample_bylevel': [0.4, 0.5, 0.6, 0.7, 0.8, 0.9, 1.0],\n",
    "    'min_child_weight': [0.5, 1.0, 3.0, 5.0, 7.0, 10.0],\n",
    "    'gamma': [0, 0.25, 0.5, 1.0],\n",
    "    'reg_lambda': [0.1, 1.0, 5.0, 10.0, 50.0, 100.0],\n",
    "    'n_estimators': [100]\n",
    "}\n",
    "fit_params = {\n",
    "    'early_stopping_rounds': 10,\n",
    "    'eval_set': [(test[0], test[1])],\n",
    "    'verbose': False,\n",
    "    'eval_metric': 'rmse'\n",
    "    \n",
    "}\n",
    "rs = RandomizedSearchCV(reg, param_grid, n_iter=20, n_jobs=1, verbose=2, cv=2, scoring='neg_mean_squared_error', refit=True, random_state=42)\n",
    "rs.fit(train[0], train[1], **fit_params) #*train"
   ]
  },
  {
   "cell_type": "code",
   "execution_count": 56,
   "metadata": {},
   "outputs": [
    {
     "data": {
      "text/plain": [
       "{'subsample': 0.9,\n",
       " 'reg_lambda': 50.0,\n",
       " 'n_estimators': 100,\n",
       " 'min_child_weight': 7.0,\n",
       " 'max_depth': 15,\n",
       " 'learning_rate': 0.1,\n",
       " 'gamma': 0.5,\n",
       " 'colsample_bytree': 0.4,\n",
       " 'colsample_bylevel': 0.5}"
      ]
     },
     "execution_count": 56,
     "metadata": {},
     "output_type": "execute_result"
    }
   ],
   "source": [
    "rs.best_params_"
   ]
  },
  {
   "cell_type": "code",
   "execution_count": 57,
   "metadata": {},
   "outputs": [
    {
     "name": "stdout",
     "output_type": "stream",
     "text": [
      "Best Parameters: {'subsample': 0.9, 'reg_lambda': 50.0, 'n_estimators': 100, 'min_child_weight': 7.0, 'max_depth': 15, 'learning_rate': 0.1, 'gamma': 0.5, 'colsample_bytree': 0.4, 'colsample_bylevel': 0.5}\n",
      "----------------\n",
      "[15:03:27] WARNING: ../src/learner.cc:541: \n",
      "Parameters: { min_child_samples, num_leaves } might not be used.\n",
      "\n",
      "  This may not be accurate due to some parameters are only used in language bindings but\n",
      "  passed down to XGBoost core.  Or some parameters are not used but slip through this\n",
      "  verification. Please open an issue if you find above cases.\n",
      "\n",
      "\n"
     ]
    },
    {
     "data": {
      "text/plain": [
       "XGBRegressor(base_score=0.5, booster='gbtree', colsample_bylevel=1,\n",
       "             colsample_bynode=1, colsample_bytree=0.8705914792749987, gamma=0,\n",
       "             gpu_id=-1, importance_type='gain', interaction_constraints='',\n",
       "             learning_rate=0.300000012, max_delta_step=0, max_depth=6,\n",
       "             min_child_samples=112, min_child_weight=100.0, missing=nan,\n",
       "             monotone_constraints='()', n_estimators=100, n_jobs=4,\n",
       "             num_leaves=49, num_parallel_tree=1, random_state=0, reg_alpha=10,\n",
       "             reg_lambda=0, scale_pos_weight=1, subsample=0.29073339724875163,\n",
       "             tree_method='exact', validate_parameters=1, verbosity=None)"
      ]
     },
     "execution_count": 57,
     "metadata": {},
     "output_type": "execute_result"
    }
   ],
   "source": [
    "xgb_best_params = rs.best_params_\n",
    "print(\"Best Parameters:\", xgb_best_params)\n",
    "print(\"----------------\")\n",
    "xgb_best_model = xgb.XGBRegressor(**best_params )\n",
    "xgb_best_model.fit(*train)"
   ]
  },
  {
   "cell_type": "markdown",
   "metadata": {},
   "source": [
    "#### 結果"
   ]
  },
  {
   "cell_type": "code",
   "execution_count": 58,
   "metadata": {},
   "outputs": [
    {
     "data": {
      "text/plain": [
       "-0.010434797292031117"
      ]
     },
     "execution_count": 58,
     "metadata": {},
     "output_type": "execute_result"
    }
   ],
   "source": [
    "xgb_best_model.score(*test)"
   ]
  },
  {
   "cell_type": "code",
   "execution_count": 59,
   "metadata": {
    "scrolled": true
   },
   "outputs": [
    {
     "data": {
      "text/plain": [
       "<AxesSubplot:xlabel='Value', ylabel='Feature'>"
      ]
     },
     "execution_count": 59,
     "metadata": {},
     "output_type": "execute_result"
    },
    {
     "data": {
      "image/png": "[encoded data removed]",
      "text/plain": [
       "<Figure size 1000x1000 with 1 Axes>"
      ]
     },
     "metadata": {},
     "output_type": "display_data"
    }
   ],
   "source": [
    "feature_imp = pd.DataFrame(zip(xgb_best_model.feature_importances_, feature_names), \n",
    "                           columns=['Value','Feature']).sort_values('Value', ascending=False)\n",
    "feature_imp\n",
    "\n",
    "%matplotlib inline\n",
    "import seaborn as sns\n",
    "plt.figure(figsize=(10,10))\n",
    "sns.barplot(x=\"Value\", y=\"Feature\", data=feature_imp)"
   ]
  },
  {
   "cell_type": "markdown",
   "metadata": {},
   "source": [
    "### 4.Random Forest Model"
   ]
  },
  {
   "cell_type": "code",
   "execution_count": 60,
   "metadata": {},
   "outputs": [],
   "source": [
    "#from sklearn.ensemble import RandomForestRegressor\n",
    "#\n",
    "#cf2 = RandomForestRegressor(n_estimators=100)\n",
    "#cf2.fit(dataset_train[feature_names].astype(float), dataset_train['rank'])"
   ]
  },
  {
   "cell_type": "code",
   "execution_count": 61,
   "metadata": {},
   "outputs": [
    {
     "data": {
      "text/plain": [
       "-0.0027760405732155657"
      ]
     },
     "execution_count": 61,
     "metadata": {},
     "output_type": "execute_result"
    }
   ],
   "source": [
    "from sklearn.ensemble import RandomForestRegressor\n",
    "\n",
    "cf_rf = RandomForestRegressor(n_estimators=100)\n",
    "cf_rf.fit(*train)\n",
    "cf_rf.score(*test)"
   ]
  },
  {
   "cell_type": "code",
   "execution_count": 63,
   "metadata": {},
   "outputs": [
    {
     "data": {
      "text/plain": [
       "<AxesSubplot:xlabel='Value', ylabel='Feature'>"
      ]
     },
     "execution_count": 63,
     "metadata": {},
     "output_type": "execute_result"
    },
    {
     "data": {
      "image/png": "[encoded data removed]",
      "text/plain": [
       "<Figure size 640x480 with 1 Axes>"
      ]
     },
     "metadata": {},
     "output_type": "display_data"
    }
   ],
   "source": [
    "feature_imp = pd.DataFrame(zip(cf_rf.feature_importances_, feature_names), \n",
    "                           columns=['Value','Feature']).sort_values('Value', ascending=False)\n",
    "feature_imp\n",
    "\n",
    "%matplotlib inline\n",
    "import seaborn as sns\n",
    "sns.barplot(x=\"Value\", y=\"Feature\", data=feature_imp)"
   ]
  },
  {
   "cell_type": "code",
   "execution_count": 64,
   "metadata": {},
   "outputs": [
    {
     "name": "stdout",
     "output_type": "stream",
     "text": [
      "最佳参数: {'n_estimators': 100, 'min_samples_split': 2, 'min_samples_leaf': 8, 'max_features': 'log2', 'max_depth': None, 'bootstrap': True}\n"
     ]
    }
   ],
   "source": [
    "from sklearn.ensemble import RandomForestRegressor \n",
    "from sklearn.model_selection import RandomizedSearchCV\n",
    "\n",
    "rf = RandomForestRegressor()\n",
    "# 参数取值范围\n",
    "param_grid = {\n",
    "    'n_estimators': [100, 200, 300],\n",
    "    'max_depth': [None, 3, 5, 10],\n",
    "    'min_samples_split': [2, 5, 10],\n",
    "    'min_samples_leaf': [1, 5, 8], \n",
    "    'max_features': ['auto', 'sqrt', 'log2'],\n",
    "    'bootstrap': [True, False]\n",
    "}\n",
    "\n",
    "# 随机搜索\n",
    "rs = RandomizedSearchCV(rf,\n",
    "                        param_grid,\n",
    "                        n_iter=10,\n",
    "                        cv=5,\n",
    "                        n_jobs=-1,\n",
    "                        random_state=42)\n",
    "\n",
    "rf.fit(*train)\n",
    "rf.score(*test)\n",
    "\n",
    "# 拟合模型\n",
    "rs.fit(*train)\n",
    "\n",
    "# 输出最佳参数\n",
    "print('最佳参数:', rs.best_params_)"
   ]
  },
  {
   "cell_type": "code",
   "execution_count": 65,
   "metadata": {},
   "outputs": [
    {
     "data": {
      "text/plain": [
       "RandomForestRegressor(max_features='log2', min_samples_leaf=8)"
      ]
     },
     "execution_count": 65,
     "metadata": {},
     "output_type": "execute_result"
    }
   ],
   "source": [
    "rf_best_params = rs.best_params_\n",
    "\n",
    "rf_best_model = RandomForestRegressor(**rf_best_params )\n",
    "rf_best_model.fit(*train)"
   ]
  },
  {
   "cell_type": "code",
   "execution_count": 66,
   "metadata": {},
   "outputs": [
    {
     "data": {
      "text/plain": [
       "0.010646261022189019"
      ]
     },
     "execution_count": 66,
     "metadata": {},
     "output_type": "execute_result"
    }
   ],
   "source": [
    "rf_best_model.score(*test)"
   ]
  },
  {
   "cell_type": "code",
   "execution_count": 67,
   "metadata": {},
   "outputs": [
    {
     "data": {
      "text/plain": [
       "<AxesSubplot:xlabel='Value', ylabel='Feature'>"
      ]
     },
     "execution_count": 67,
     "metadata": {},
     "output_type": "execute_result"
    },
    {
     "data": {
      "image/png": "[encoded data removed]",
      "text/plain": [
       "<Figure size 640x480 with 1 Axes>"
      ]
     },
     "metadata": {},
     "output_type": "display_data"
    }
   ],
   "source": [
    "feature_imp = pd.DataFrame(zip(rf_best_model.feature_importances_, feature_names), \n",
    "                           columns=['Value','Feature']).sort_values('Value', ascending=False)\n",
    "feature_imp\n",
    "\n",
    "%matplotlib inline\n",
    "import seaborn as sns\n",
    "sns.barplot(x=\"Value\", y=\"Feature\", data=feature_imp)"
   ]
  },
  {
   "cell_type": "code",
   "execution_count": 68,
   "metadata": {
    "scrolled": true,
    "tags": []
   },
   "outputs": [],
   "source": [
    "#from sklearn.ensemble import RandomForestRegressor\n",
    "#from sklearn.model_selection import RandomizedSearchCV\n",
    "#\n",
    "## 建立隨機森林回歸模型\n",
    "#cf2 = RandomForestRegressor()\n",
    "#\n",
    "## 定義超參數範圍\n",
    "#param_dist = {\n",
    "#    'n_estimators': [50, 100, 200, 300],\n",
    "#    'max_features': ['auto', 'sqrt', 'log2'],\n",
    "#    'max_depth': [None, 10, 20, 30],\n",
    "#    'min_samples_split': [2, 5, 10],\n",
    "#    'min_samples_leaf': [1, 2, 4],\n",
    "#    'bootstrap': [True, False]\n",
    "#}\n",
    "#\n",
    "## 執行隨機參數搜尋\n",
    "#rs = RandomizedSearchCV(cf2, param_distributions=param_dist, n_iter=100, cv=5, verbose=2, random_state=42)\n",
    "#rs.fit(dataset_train[feature_names].astype(float), dataset_train['rank'])"
   ]
  },
  {
   "cell_type": "markdown",
   "metadata": {},
   "source": [
    "在以上程式碼中，我們建立了 RandomForestRegressor 模型，\n",
    "並定義了超參數的範圍。使用 RandomizedSearchCV 進行參數搜尋，\n",
    "設定了迭代次數為 100，交叉驗證次數為 5，並設定了 random_state 來保持結果的可重現性。\n",
    "透過這樣的方式，您可以進一步優化 RandomForestRegressor 模型，以提高其性能。"
   ]
  },
  {
   "cell_type": "code",
   "execution_count": 69,
   "metadata": {
    "scrolled": true
   },
   "outputs": [],
   "source": [
    "#feature_imp = pd.DataFrame(zip(cf2.feature_importances_, feature_names), \n",
    "#                           columns=['Value','Feature']).sort_values('Value', ascending=False)\n",
    "#feature_imp\n",
    "#\n",
    "#%matplotlib inline\n",
    "#import seaborn as sns\n",
    "#plt.figure(figsize=(10,10))\n",
    "#sns.barplot(x=\"Value\", y=\"Feature\", data=feature_imp)"
   ]
  },
  {
   "cell_type": "markdown",
   "metadata": {},
   "source": [
    "### Ensemble learning"
   ]
  },
  {
   "cell_type": "code",
   "execution_count": 70,
   "metadata": {},
   "outputs": [],
   "source": [
    "dataset_drop = dataset.dropna(subset=feature_names+['return'])\n",
    "\n",
    "vals = model.predict(dataset_drop[feature_names].astype(float))\n",
    "dataset_drop['result1'] = pd.Series(vals.swapaxes(0,1)[0], dataset_drop.index)\n",
    "\n",
    "vals = gs_best_model.predict(dataset_drop[feature_names].astype(float))\n",
    "dataset_drop['result2'] = pd.Series(vals, dataset_drop.index)\n",
    "\n",
    "vals = xgb_best_model.predict(dataset_drop[feature_names].astype(float))\n",
    "dataset_drop['result3'] = pd.Series(vals, dataset_drop.index)\n",
    "\n",
    "#vals = rf_best_model.predict(dataset_drop[feature_names].astype(float))\n",
    "#dataset_drop['result4'] = pd.Series(vals, dataset_drop.index)\n",
    "\n",
    "dataset_drop = dataset_drop.reset_index().set_index(\"date\")"
   ]
  },
  {
   "cell_type": "code",
   "execution_count": 71,
   "metadata": {},
   "outputs": [
    {
     "name": "stdout",
     "output_type": "stream",
     "text": [
      "[[0.40024057]\n",
      " [0.4706121 ]\n",
      " [0.49468625]\n",
      " ...\n",
      " [0.4527113 ]\n",
      " [0.49616477]\n",
      " [0.47630632]]\n",
      "[0.45526392 0.49469257 0.46612155 ... 0.46323307 0.50854401 0.51095269]\n",
      "[0.45878896 0.48727285 0.51112009 ... 0.42753578 0.49501957 0.48601879]\n",
      "[0.44965405 0.53691088 0.42353638 ... 0.46842041 0.58051496 0.53349603]\n"
     ]
    }
   ],
   "source": [
    "print(model.predict(dataset_drop[feature_names].astype(float)))\n",
    "print(gs.predict(dataset_drop[feature_names].astype(float)))\n",
    "print(rs.predict(dataset_drop[feature_names].astype(float)))\n",
    "print(rf.predict(dataset_drop[feature_names].astype(float)))"
   ]
  },
  {
   "cell_type": "markdown",
   "metadata": {},
   "source": [
    "# backtest"
   ]
  },
  {
   "cell_type": "code",
   "execution_count": 89,
   "metadata": {},
   "outputs": [
    {
     "name": "stderr",
     "output_type": "stream",
     "text": [
      "100%|██████████████████████████████████████████████████████████████████████████████| 174/174 [00:06<00:00, 27.99it/s]\n"
     ]
    },
    {
     "data": {
      "text/plain": [
       "<AxesSubplot:xlabel='date'>"
      ]
     },
     "execution_count": 89,
     "metadata": {},
     "output_type": "execute_result"
    },
    {
     "data": {
      "image/png": "[encoded data removed]",
      "text/plain": [
       "<Figure size 640x480 with 1 Axes>"
      ]
     },
     "metadata": {},
     "output_type": "display_data"
    }
   ],
   "source": [
    "import math\n",
    "from tqdm import tqdm\n",
    "\n",
    "dates = sorted(list(set(dataset_drop.index)))\n",
    "fil_ma_s = 1000  # start\n",
    "fil_ma_e = 3000  # end\n",
    "\n",
    "rs_1 = []\n",
    "rs_2 = []\n",
    "rs_3 = []  \n",
    "rs_4 = []  \n",
    "rs_5 = []  # 收益数据列表\n",
    "\n",
    "for d in tqdm(dates):\n",
    "    dataset_time = dataset_drop.loc[d]\n",
    "    dataset_time = drop_extreme_case(dataset_time, feature_names, thresh=0.01)\n",
    "    predi_target_0 = dataset_time['result1'] + dataset_time['result2'] + dataset_time['result3'] #+ dataset_time['result4']\n",
    "    predi_target_1 = predi_target_0.where((dataset_time['vol_ma5'] > fil_ma_s) & (dataset_time['vol_ma5'] < fil_ma_e) & (dataset_time['市值'] < 1e10), 0)\n",
    "    predi_target_2 = predi_target_0.where((dataset_time['vol_ma5'] > fil_ma_s) & (dataset_time['市值'] < 1e9), 0)\n",
    "    predi_target_3 = predi_target_0.where((dataset_time['vol_ma5'] < fil_ma_e) & (dataset_time['市值'] < 1e10), 0)\n",
    "    predi_target_4 = predi_target_0.where((dataset_time['vol_ma5'] > fil_ma_e) & (dataset_time['市值'] > 1e9), 0)\n",
    "    \n",
    "        \n",
    "\n",
    "    condition_0 = (predi_target_0 >= predi_target_0.nlargest(20).iloc[-1])\n",
    "    condition_1 = (predi_target_1 >= predi_target_1.nlargest(20).iloc[-1])\n",
    "    condition_2 = (predi_target_2 >= predi_target_2.nlargest(20).iloc[-1])\n",
    "    condition_3 = (predi_target_3 >= predi_target_3.nlargest(20).iloc[-1])\n",
    "    condition_4 = (predi_target_4 >= predi_target_4.nlargest(20).iloc[-1])\n",
    "\n",
    "    \n",
    "    r0 = dataset_time['return'][condition_0].mean()\n",
    "    r1 = dataset_time['return'][condition_1].mean()\n",
    "    r2 = dataset_time['return'][condition_2].mean()\n",
    "    r3 = dataset_time['return'][condition_3].mean()\n",
    "    r4 = dataset_time['return'][condition_4].mean()\n",
    "\n",
    "    \n",
    "    rs_1.append(r0 * (1 - 3 / 1000 - 1.425 / 1000 * 2 * 0.6))\n",
    "    rs_2.append(r1 * (1 - 3 / 1000 - 1.425 / 1000 * 2 * 0.6))\n",
    "    rs_3.append(r2 * (1 - 3 / 1000 - 1.425 / 1000 * 2 * 0.6))\n",
    "    rs_4.append(r3 * (1 - 3 / 1000 - 1.425 / 1000 * 2 * 0.6))\n",
    "    rs_5.append(r4 * (1 - 3 / 1000 - 1.425 / 1000 * 2 * 0.6))\n",
    "    \n",
    "\n",
    "rs_1 = pd.Series(rs_1, index=dates)[Aft:].cumprod()\n",
    "rs_2 = pd.Series(rs_2, index=dates)[Aft:].cumprod()\n",
    "rs_3 = pd.Series(rs_3, index=dates)[Aft:].cumprod()\n",
    "rs_4 = pd.Series(rs_4, index=dates)[Aft:].cumprod()\n",
    "rs_5 = pd.Series(rs_5, index=dates)[Aft:].cumprod()\n",
    "\n",
    "s0050 = close['0050'][Aft:]\n",
    "\n",
    "pd.DataFrame(\n",
    "    {\n",
    "        'nn strategy return': rs_1.reindex(s0050.index, method='ffill'),\n",
    "        'nn strategy return_ma': rs_2.reindex(s0050.index, method='ffill'),\n",
    "        'nn strategy return_mktcap->100 10e': rs_3.reindex(s0050.index, method='ffill'),\n",
    "        #'nn strategy return_mktcap-<300 10e': rs_4.reindex(s0050.index, method='ffill'),\n",
    "        'nn strategy return_mktcap->300 10e': rs_5.reindex(s0050.index, method='ffill'),\n",
    "        '0050 return': s0050 / s0050[0],\n",
    "    }\n",
    ").plot()\n"
   ]
  },
  {
   "cell_type": "code",
   "execution_count": 87,
   "metadata": {},
   "outputs": [],
   "source": [
    "result_col = ['result1','result2','result3','result4']\n",
    "t1 = dataset_time[result_col]"
   ]
  },
  {
   "cell_type": "code",
   "execution_count": 90,
   "metadata": {},
   "outputs": [
    {
     "data": {
      "text/html": [
       "<div>\n",
       "<style scoped>\n",
       "    .dataframe tbody tr th:only-of-type {\n",
       "        vertical-align: middle;\n",
       "    }\n",
       "\n",
       "    .dataframe tbody tr th {\n",
       "        vertical-align: top;\n",
       "    }\n",
       "\n",
       "    .dataframe thead th {\n",
       "        text-align: right;\n",
       "    }\n",
       "</style>\n",
       "<table border=\"1\" class=\"dataframe\">\n",
       "  <thead>\n",
       "    <tr style=\"text-align: right;\">\n",
       "      <th></th>\n",
       "      <th>result1</th>\n",
       "      <th>result2</th>\n",
       "      <th>result3</th>\n",
       "      <th>result4</th>\n",
       "    </tr>\n",
       "  </thead>\n",
       "  <tbody>\n",
       "    <tr>\n",
       "      <th>result1</th>\n",
       "      <td>1.000000</td>\n",
       "      <td>0.619623</td>\n",
       "      <td>0.494481</td>\n",
       "      <td>0.582837</td>\n",
       "    </tr>\n",
       "    <tr>\n",
       "      <th>result2</th>\n",
       "      <td>0.619623</td>\n",
       "      <td>1.000000</td>\n",
       "      <td>0.701586</td>\n",
       "      <td>0.818266</td>\n",
       "    </tr>\n",
       "    <tr>\n",
       "      <th>result3</th>\n",
       "      <td>0.494481</td>\n",
       "      <td>0.701586</td>\n",
       "      <td>1.000000</td>\n",
       "      <td>0.622966</td>\n",
       "    </tr>\n",
       "    <tr>\n",
       "      <th>result4</th>\n",
       "      <td>0.582837</td>\n",
       "      <td>0.818266</td>\n",
       "      <td>0.622966</td>\n",
       "      <td>1.000000</td>\n",
       "    </tr>\n",
       "  </tbody>\n",
       "</table>\n",
       "</div>"
      ],
      "text/plain": [
       "          result1   result2   result3   result4\n",
       "result1  1.000000  0.619623  0.494481  0.582837\n",
       "result2  0.619623  1.000000  0.701586  0.818266\n",
       "result3  0.494481  0.701586  1.000000  0.622966\n",
       "result4  0.582837  0.818266  0.622966  1.000000"
      ]
     },
     "execution_count": 90,
     "metadata": {},
     "output_type": "execute_result"
    }
   ],
   "source": [
    "corr_matrix = t1.corr()\n",
    "corr_matrix"
   ]
  },
  {
   "cell_type": "code",
   "execution_count": 74,
   "metadata": {},
   "outputs": [
    {
     "data": {
      "text/plain": [
       "date\n",
       "2023-09-15    1.566395\n",
       "2023-09-15    1.581522\n",
       "2023-09-15    1.424432\n",
       "2023-09-15    1.475061\n",
       "2023-09-15    1.520221\n",
       "                ...   \n",
       "2023-09-15    1.674851\n",
       "2023-09-15    1.278810\n",
       "2023-09-15    1.371253\n",
       "2023-09-15    1.402516\n",
       "2023-09-15    1.484530\n",
       "Length: 1281, dtype: float64"
      ]
     },
     "execution_count": 74,
     "metadata": {},
     "output_type": "execute_result"
    }
   ],
   "source": [
    "predi_target = dataset_time['result1'] + dataset_time['result2'] + dataset_time['result3']\n",
    "predi_target"
   ]
  },
  {
   "cell_type": "markdown",
   "metadata": {},
   "source": [
    "### 當月持股狀況"
   ]
  },
  {
   "cell_type": "code",
   "execution_count": 75,
   "metadata": {},
   "outputs": [
    {
     "data": {
      "text/plain": [
       "Timestamp('2023-11-15 00:00:00')"
      ]
     },
     "execution_count": 75,
     "metadata": {},
     "output_type": "execute_result"
    }
   ],
   "source": [
    "dataset.index.levels[1].max()"
   ]
  },
  {
   "cell_type": "code",
   "execution_count": 76,
   "metadata": {},
   "outputs": [
    {
     "data": {
      "image/png": "[encoded data removed]",
      "text/plain": [
       "<Figure size 640x480 with 1 Axes>"
      ]
     },
     "metadata": {},
     "output_type": "display_data"
    }
   ],
   "source": [
    "# get the latest dataset\n",
    "last_date = dataset.index.levels[1].max()#\"2022-10-15\"\n",
    "is_last_date = dataset.index.get_level_values('date') == last_date\n",
    "last_dataset = dataset[is_last_date].copy()\n",
    "\n",
    "\n",
    "last_dataset = drop_extreme_case(last_dataset,\n",
    "                                 feature_names, thresh=0.01)\n",
    "\n",
    "\n",
    "# remove NaN testcases\n",
    "last_dataset = last_dataset.dropna(subset=feature_names)\n",
    "\n",
    "# predict\n",
    "\n",
    "vals = model.predict(last_dataset[feature_names].astype(float))\n",
    "last_dataset['result1'] = pd.Series(vals.swapaxes(0,1)[0], last_dataset.index)\n",
    "\n",
    "vals = gs_best_model.predict(last_dataset[feature_names].astype(float))\n",
    "last_dataset['result2'] = pd.Series(vals, last_dataset.index)\n",
    "\n",
    "vals = xgb_best_model.predict(last_dataset[feature_names].astype(float))\n",
    "last_dataset['result3'] = pd.Series(vals, last_dataset.index)\n",
    "\n",
    "# calculate score\n",
    "\n",
    "rank = last_dataset['result1'] + last_dataset['result2'] + last_dataset['result3']\n",
    "#rank_target = rank.where((last_dataset['vol_ma5'] > fil_ma_s)  & (last_dataset['vol_ma5'] < fil_ma_e)  & (last_dataset['市值'] < 1e10), 0)\n",
    "rank_target = rank.where((last_dataset['vol_ma5'] > fil_ma_e) )# & (last_dataset['市值'] < 1e10), 0)\n",
    "\n",
    "condition = (rank_target >= rank_target.nlargest(20).iloc[-1]) \n",
    "\n",
    "# plot rank distribution\n",
    "rank_target[rank_target != 0].hist(bins=20)\n",
    "\n",
    "\n",
    "# show the best 20 stocks\n",
    "slist1 = rank_target[rank_target != 0].reset_index()['stock_id']"
   ]
  },
  {
   "cell_type": "code",
   "execution_count": 77,
   "metadata": {},
   "outputs": [
    {
     "data": {
      "text/html": [
       "<div>\n",
       "<style scoped>\n",
       "    .dataframe tbody tr th:only-of-type {\n",
       "        vertical-align: middle;\n",
       "    }\n",
       "\n",
       "    .dataframe tbody tr th {\n",
       "        vertical-align: top;\n",
       "    }\n",
       "\n",
       "    .dataframe thead th {\n",
       "        text-align: right;\n",
       "    }\n",
       "</style>\n",
       "<table border=\"1\" class=\"dataframe\">\n",
       "  <thead>\n",
       "    <tr style=\"text-align: right;\">\n",
       "      <th></th>\n",
       "      <th></th>\n",
       "      <th>mom1</th>\n",
       "      <th>mom2</th>\n",
       "      <th>mom3</th>\n",
       "      <th>mom4</th>\n",
       "      <th>mom5</th>\n",
       "      <th>mom6</th>\n",
       "      <th>mom7</th>\n",
       "      <th>mom8</th>\n",
       "      <th>mom9</th>\n",
       "      <th>bias_5</th>\n",
       "      <th>...</th>\n",
       "      <th>rsv_60</th>\n",
       "      <th>rsv_120</th>\n",
       "      <th>rsv_240</th>\n",
       "      <th>vol_ma5</th>\n",
       "      <th>市值</th>\n",
       "      <th>return</th>\n",
       "      <th>rank</th>\n",
       "      <th>result1</th>\n",
       "      <th>result2</th>\n",
       "      <th>result3</th>\n",
       "    </tr>\n",
       "    <tr>\n",
       "      <th>stock_id</th>\n",
       "      <th>date</th>\n",
       "      <th></th>\n",
       "      <th></th>\n",
       "      <th></th>\n",
       "      <th></th>\n",
       "      <th></th>\n",
       "      <th></th>\n",
       "      <th></th>\n",
       "      <th></th>\n",
       "      <th></th>\n",
       "      <th></th>\n",
       "      <th></th>\n",
       "      <th></th>\n",
       "      <th></th>\n",
       "      <th></th>\n",
       "      <th></th>\n",
       "      <th></th>\n",
       "      <th></th>\n",
       "      <th></th>\n",
       "      <th></th>\n",
       "      <th></th>\n",
       "      <th></th>\n",
       "    </tr>\n",
       "  </thead>\n",
       "  <tbody>\n",
       "    <tr>\n",
       "      <th>1101</th>\n",
       "      <th>2023-11-15</th>\n",
       "      <td>0.931312</td>\n",
       "      <td>1.047573</td>\n",
       "      <td>1.015580</td>\n",
       "      <td>0.918719</td>\n",
       "      <td>1.054502</td>\n",
       "      <td>0.775774</td>\n",
       "      <td>1.605565</td>\n",
       "      <td>0.997385</td>\n",
       "      <td>0.582099</td>\n",
       "      <td>1.000000</td>\n",
       "      <td>...</td>\n",
       "      <td>0.321429</td>\n",
       "      <td>0.196425</td>\n",
       "      <td>0.170700</td>\n",
       "      <td>26108.78850</td>\n",
       "      <td>7.531098e+11</td>\n",
       "      <td>NaN</td>\n",
       "      <td>NaN</td>\n",
       "      <td>0.488209</td>\n",
       "      <td>0.540832</td>\n",
       "      <td>0.495976</td>\n",
       "    </tr>\n",
       "    <tr>\n",
       "      <th>1102</th>\n",
       "      <th>2023-11-15</th>\n",
       "      <td>1.034324</td>\n",
       "      <td>0.952830</td>\n",
       "      <td>1.017837</td>\n",
       "      <td>0.921617</td>\n",
       "      <td>1.009714</td>\n",
       "      <td>0.879294</td>\n",
       "      <td>1.306309</td>\n",
       "      <td>1.296343</td>\n",
       "      <td>0.577242</td>\n",
       "      <td>1.003464</td>\n",
       "      <td>...</td>\n",
       "      <td>0.918919</td>\n",
       "      <td>0.546512</td>\n",
       "      <td>0.546512</td>\n",
       "      <td>5008.49190</td>\n",
       "      <td>4.671410e+11</td>\n",
       "      <td>NaN</td>\n",
       "      <td>NaN</td>\n",
       "      <td>0.514134</td>\n",
       "      <td>0.563820</td>\n",
       "      <td>0.549327</td>\n",
       "    </tr>\n",
       "    <tr>\n",
       "      <th>1103</th>\n",
       "      <th>2023-11-15</th>\n",
       "      <td>0.975146</td>\n",
       "      <td>0.896059</td>\n",
       "      <td>0.961758</td>\n",
       "      <td>1.217018</td>\n",
       "      <td>1.034162</td>\n",
       "      <td>0.884147</td>\n",
       "      <td>1.180455</td>\n",
       "      <td>1.103720</td>\n",
       "      <td>0.836309</td>\n",
       "      <td>1.001091</td>\n",
       "      <td>...</td>\n",
       "      <td>0.305556</td>\n",
       "      <td>0.114956</td>\n",
       "      <td>0.331608</td>\n",
       "      <td>189.96350</td>\n",
       "      <td>2.725732e+10</td>\n",
       "      <td>NaN</td>\n",
       "      <td>NaN</td>\n",
       "      <td>0.489627</td>\n",
       "      <td>0.531426</td>\n",
       "      <td>0.492867</td>\n",
       "    </tr>\n",
       "    <tr>\n",
       "      <th>1104</th>\n",
       "      <th>2023-11-15</th>\n",
       "      <td>1.002260</td>\n",
       "      <td>0.968538</td>\n",
       "      <td>1.054584</td>\n",
       "      <td>0.900513</td>\n",
       "      <td>1.041817</td>\n",
       "      <td>0.871040</td>\n",
       "      <td>1.250067</td>\n",
       "      <td>1.172781</td>\n",
       "      <td>0.695641</td>\n",
       "      <td>1.011278</td>\n",
       "      <td>...</td>\n",
       "      <td>0.434211</td>\n",
       "      <td>0.362637</td>\n",
       "      <td>0.718153</td>\n",
       "      <td>658.63635</td>\n",
       "      <td>4.632666e+10</td>\n",
       "      <td>NaN</td>\n",
       "      <td>NaN</td>\n",
       "      <td>0.502788</td>\n",
       "      <td>0.532941</td>\n",
       "      <td>0.530348</td>\n",
       "    </tr>\n",
       "    <tr>\n",
       "      <th>1108</th>\n",
       "      <th>2023-11-15</th>\n",
       "      <td>0.939015</td>\n",
       "      <td>0.975693</td>\n",
       "      <td>0.995896</td>\n",
       "      <td>0.917174</td>\n",
       "      <td>1.219080</td>\n",
       "      <td>0.908584</td>\n",
       "      <td>1.205342</td>\n",
       "      <td>1.226676</td>\n",
       "      <td>0.704955</td>\n",
       "      <td>1.026723</td>\n",
       "      <td>...</td>\n",
       "      <td>0.571429</td>\n",
       "      <td>0.270895</td>\n",
       "      <td>0.585799</td>\n",
       "      <td>526.86110</td>\n",
       "      <td>1.001012e+10</td>\n",
       "      <td>NaN</td>\n",
       "      <td>NaN</td>\n",
       "      <td>0.504922</td>\n",
       "      <td>0.491892</td>\n",
       "      <td>0.500655</td>\n",
       "    </tr>\n",
       "    <tr>\n",
       "      <th>...</th>\n",
       "      <th>...</th>\n",
       "      <td>...</td>\n",
       "      <td>...</td>\n",
       "      <td>...</td>\n",
       "      <td>...</td>\n",
       "      <td>...</td>\n",
       "      <td>...</td>\n",
       "      <td>...</td>\n",
       "      <td>...</td>\n",
       "      <td>...</td>\n",
       "      <td>...</td>\n",
       "      <td>...</td>\n",
       "      <td>...</td>\n",
       "      <td>...</td>\n",
       "      <td>...</td>\n",
       "      <td>...</td>\n",
       "      <td>...</td>\n",
       "      <td>...</td>\n",
       "      <td>...</td>\n",
       "      <td>...</td>\n",
       "      <td>...</td>\n",
       "      <td>...</td>\n",
       "    </tr>\n",
       "    <tr>\n",
       "      <th>9950</th>\n",
       "      <th>2023-11-15</th>\n",
       "      <td>1.037888</td>\n",
       "      <td>1.063320</td>\n",
       "      <td>0.978224</td>\n",
       "      <td>0.894659</td>\n",
       "      <td>1.193539</td>\n",
       "      <td>1.202384</td>\n",
       "      <td>1.076686</td>\n",
       "      <td>0.731279</td>\n",
       "      <td>0.927715</td>\n",
       "      <td>0.932681</td>\n",
       "      <td>...</td>\n",
       "      <td>0.710938</td>\n",
       "      <td>0.773006</td>\n",
       "      <td>0.794444</td>\n",
       "      <td>4808.53215</td>\n",
       "      <td>7.633962e+09</td>\n",
       "      <td>NaN</td>\n",
       "      <td>NaN</td>\n",
       "      <td>0.462973</td>\n",
       "      <td>0.487485</td>\n",
       "      <td>0.505817</td>\n",
       "    </tr>\n",
       "    <tr>\n",
       "      <th>9951</th>\n",
       "      <th>2023-11-15</th>\n",
       "      <td>1.014214</td>\n",
       "      <td>1.207436</td>\n",
       "      <td>0.891870</td>\n",
       "      <td>1.065317</td>\n",
       "      <td>1.121652</td>\n",
       "      <td>0.808777</td>\n",
       "      <td>1.085135</td>\n",
       "      <td>1.114727</td>\n",
       "      <td>0.727585</td>\n",
       "      <td>1.024112</td>\n",
       "      <td>...</td>\n",
       "      <td>0.548780</td>\n",
       "      <td>0.699814</td>\n",
       "      <td>0.840823</td>\n",
       "      <td>117.21700</td>\n",
       "      <td>1.304559e+10</td>\n",
       "      <td>NaN</td>\n",
       "      <td>NaN</td>\n",
       "      <td>0.503960</td>\n",
       "      <td>0.543514</td>\n",
       "      <td>0.569085</td>\n",
       "    </tr>\n",
       "    <tr>\n",
       "      <th>9955</th>\n",
       "      <th>2023-11-15</th>\n",
       "      <td>1.084517</td>\n",
       "      <td>0.908945</td>\n",
       "      <td>1.419451</td>\n",
       "      <td>0.350711</td>\n",
       "      <td>1.931229</td>\n",
       "      <td>0.992948</td>\n",
       "      <td>1.126728</td>\n",
       "      <td>1.009254</td>\n",
       "      <td>0.991785</td>\n",
       "      <td>0.983953</td>\n",
       "      <td>...</td>\n",
       "      <td>0.330986</td>\n",
       "      <td>0.330986</td>\n",
       "      <td>0.456522</td>\n",
       "      <td>3911.97270</td>\n",
       "      <td>3.059876e+09</td>\n",
       "      <td>NaN</td>\n",
       "      <td>NaN</td>\n",
       "      <td>0.498481</td>\n",
       "      <td>0.454251</td>\n",
       "      <td>0.444935</td>\n",
       "    </tr>\n",
       "    <tr>\n",
       "      <th>9960</th>\n",
       "      <th>2023-11-15</th>\n",
       "      <td>0.705669</td>\n",
       "      <td>1.655694</td>\n",
       "      <td>1.409542</td>\n",
       "      <td>0.706880</td>\n",
       "      <td>0.851509</td>\n",
       "      <td>1.161699</td>\n",
       "      <td>0.973260</td>\n",
       "      <td>1.040063</td>\n",
       "      <td>1.008372</td>\n",
       "      <td>1.000383</td>\n",
       "      <td>...</td>\n",
       "      <td>0.164384</td>\n",
       "      <td>0.164384</td>\n",
       "      <td>0.480415</td>\n",
       "      <td>18.37150</td>\n",
       "      <td>2.556443e+09</td>\n",
       "      <td>NaN</td>\n",
       "      <td>NaN</td>\n",
       "      <td>0.486860</td>\n",
       "      <td>0.558128</td>\n",
       "      <td>0.558918</td>\n",
       "    </tr>\n",
       "    <tr>\n",
       "      <th>9962</th>\n",
       "      <th>2023-11-15</th>\n",
       "      <td>0.821709</td>\n",
       "      <td>1.565305</td>\n",
       "      <td>0.870248</td>\n",
       "      <td>0.834370</td>\n",
       "      <td>1.250776</td>\n",
       "      <td>0.759387</td>\n",
       "      <td>1.020832</td>\n",
       "      <td>1.110722</td>\n",
       "      <td>0.729045</td>\n",
       "      <td>0.992563</td>\n",
       "      <td>...</td>\n",
       "      <td>0.500000</td>\n",
       "      <td>0.148649</td>\n",
       "      <td>0.354783</td>\n",
       "      <td>138.59650</td>\n",
       "      <td>3.830581e+09</td>\n",
       "      <td>NaN</td>\n",
       "      <td>NaN</td>\n",
       "      <td>0.477705</td>\n",
       "      <td>0.512362</td>\n",
       "      <td>0.462285</td>\n",
       "    </tr>\n",
       "  </tbody>\n",
       "</table>\n",
       "<p>1341 rows × 29 columns</p>\n",
       "</div>"
      ],
      "text/plain": [
       "                         mom1      mom2      mom3      mom4      mom5  \\\n",
       "stock_id date                                                           \n",
       "1101     2023-11-15  0.931312  1.047573  1.015580  0.918719  1.054502   \n",
       "1102     2023-11-15  1.034324  0.952830  1.017837  0.921617  1.009714   \n",
       "1103     2023-11-15  0.975146  0.896059  0.961758  1.217018  1.034162   \n",
       "1104     2023-11-15  1.002260  0.968538  1.054584  0.900513  1.041817   \n",
       "1108     2023-11-15  0.939015  0.975693  0.995896  0.917174  1.219080   \n",
       "...                       ...       ...       ...       ...       ...   \n",
       "9950     2023-11-15  1.037888  1.063320  0.978224  0.894659  1.193539   \n",
       "9951     2023-11-15  1.014214  1.207436  0.891870  1.065317  1.121652   \n",
       "9955     2023-11-15  1.084517  0.908945  1.419451  0.350711  1.931229   \n",
       "9960     2023-11-15  0.705669  1.655694  1.409542  0.706880  0.851509   \n",
       "9962     2023-11-15  0.821709  1.565305  0.870248  0.834370  1.250776   \n",
       "\n",
       "                         mom6      mom7      mom8      mom9    bias_5  ...  \\\n",
       "stock_id date                                                          ...   \n",
       "1101     2023-11-15  0.775774  1.605565  0.997385  0.582099  1.000000  ...   \n",
       "1102     2023-11-15  0.879294  1.306309  1.296343  0.577242  1.003464  ...   \n",
       "1103     2023-11-15  0.884147  1.180455  1.103720  0.836309  1.001091  ...   \n",
       "1104     2023-11-15  0.871040  1.250067  1.172781  0.695641  1.011278  ...   \n",
       "1108     2023-11-15  0.908584  1.205342  1.226676  0.704955  1.026723  ...   \n",
       "...                       ...       ...       ...       ...       ...  ...   \n",
       "9950     2023-11-15  1.202384  1.076686  0.731279  0.927715  0.932681  ...   \n",
       "9951     2023-11-15  0.808777  1.085135  1.114727  0.727585  1.024112  ...   \n",
       "9955     2023-11-15  0.992948  1.126728  1.009254  0.991785  0.983953  ...   \n",
       "9960     2023-11-15  1.161699  0.973260  1.040063  1.008372  1.000383  ...   \n",
       "9962     2023-11-15  0.759387  1.020832  1.110722  0.729045  0.992563  ...   \n",
       "\n",
       "                       rsv_60   rsv_120   rsv_240      vol_ma5            市值  \\\n",
       "stock_id date                                                                  \n",
       "1101     2023-11-15  0.321429  0.196425  0.170700  26108.78850  7.531098e+11   \n",
       "1102     2023-11-15  0.918919  0.546512  0.546512   5008.49190  4.671410e+11   \n",
       "1103     2023-11-15  0.305556  0.114956  0.331608    189.96350  2.725732e+10   \n",
       "1104     2023-11-15  0.434211  0.362637  0.718153    658.63635  4.632666e+10   \n",
       "1108     2023-11-15  0.571429  0.270895  0.585799    526.86110  1.001012e+10   \n",
       "...                       ...       ...       ...          ...           ...   \n",
       "9950     2023-11-15  0.710938  0.773006  0.794444   4808.53215  7.633962e+09   \n",
       "9951     2023-11-15  0.548780  0.699814  0.840823    117.21700  1.304559e+10   \n",
       "9955     2023-11-15  0.330986  0.330986  0.456522   3911.97270  3.059876e+09   \n",
       "9960     2023-11-15  0.164384  0.164384  0.480415     18.37150  2.556443e+09   \n",
       "9962     2023-11-15  0.500000  0.148649  0.354783    138.59650  3.830581e+09   \n",
       "\n",
       "                     return  rank   result1   result2   result3  \n",
       "stock_id date                                                    \n",
       "1101     2023-11-15     NaN   NaN  0.488209  0.540832  0.495976  \n",
       "1102     2023-11-15     NaN   NaN  0.514134  0.563820  0.549327  \n",
       "1103     2023-11-15     NaN   NaN  0.489627  0.531426  0.492867  \n",
       "1104     2023-11-15     NaN   NaN  0.502788  0.532941  0.530348  \n",
       "1108     2023-11-15     NaN   NaN  0.504922  0.491892  0.500655  \n",
       "...                     ...   ...       ...       ...       ...  \n",
       "9950     2023-11-15     NaN   NaN  0.462973  0.487485  0.505817  \n",
       "9951     2023-11-15     NaN   NaN  0.503960  0.543514  0.569085  \n",
       "9955     2023-11-15     NaN   NaN  0.498481  0.454251  0.444935  \n",
       "9960     2023-11-15     NaN   NaN  0.486860  0.558128  0.558918  \n",
       "9962     2023-11-15     NaN   NaN  0.477705  0.512362  0.462285  \n",
       "\n",
       "[1341 rows x 29 columns]"
      ]
     },
     "execution_count": 77,
     "metadata": {},
     "output_type": "execute_result"
    }
   ],
   "source": [
    "last_dataset"
   ]
  },
  {
   "cell_type": "markdown",
   "metadata": {},
   "source": [
    "# 平均分配資產於股票之中"
   ]
  },
  {
   "cell_type": "code",
   "execution_count": 78,
   "metadata": {},
   "outputs": [
    {
     "name": "stdout",
     "output_type": "stream",
     "text": [
      "股票平分張數:\n"
     ]
    },
    {
     "data": {
      "text/plain": [
       "stock_id\n",
       "1102    0.396522\n",
       "2105    0.352222\n",
       "2233    0.120442\n",
       "2313    0.272063\n",
       "2357    0.044664\n",
       "2371    0.441123\n",
       "2385    0.107552\n",
       "2455    0.103735\n",
       "2492    0.132337\n",
       "2885    0.643158\n",
       "2886    0.417635\n",
       "2890    0.869132\n",
       "3322    0.661685\n",
       "3711    0.131257\n",
       "4904    0.204048\n",
       "4906    0.490960\n",
       "5258    0.109010\n",
       "6257    0.265768\n",
       "6284    0.217283\n",
       "6290    0.255221\n",
       "Name: 2023-11-13 00:00:00, dtype: float64"
      ]
     },
     "execution_count": 78,
     "metadata": {},
     "output_type": "execute_result"
    }
   ],
   "source": [
    "close = data.get(\"收盤價\")\n",
    "\n",
    "money = 321579\n",
    "stock_prices = close[rank_target[condition].reset_index()['stock_id']].iloc[-1]\n",
    "\n",
    "\n",
    "print(\"股票平分張數:\")\n",
    "money / len(stock_prices) / stock_prices / 1000\n"
   ]
  },
  {
   "cell_type": "code",
   "execution_count": 79,
   "metadata": {},
   "outputs": [
    {
     "data": {
      "text/plain": [
       "stock_id  date      \n",
       "1101      2023-11-15    False\n",
       "1102      2023-11-15    False\n",
       "1103      2023-11-15    False\n",
       "1104      2023-11-15    False\n",
       "1108      2023-11-15    False\n",
       "                        ...  \n",
       "9950      2023-11-15    False\n",
       "9951      2023-11-15    False\n",
       "9955      2023-11-15    False\n",
       "9960      2023-11-15    False\n",
       "9962      2023-11-15    False\n",
       "Length: 1341, dtype: bool"
      ]
     },
     "execution_count": 79,
     "metadata": {},
     "output_type": "execute_result"
    }
   ],
   "source": [
    "T_stock = '1101'\n",
    "(last_dataset['vol_ma5'][T_stock] > fil_ma_s)\n",
    "(last_dataset['vol_ma5'][T_stock] < fil_ma_e)  & (last_dataset['市值'] < 1e10)"
   ]
  },
  {
   "cell_type": "code",
   "execution_count": 80,
   "metadata": {},
   "outputs": [],
   "source": [
    "import pyfolio as pf\n",
    "\n",
    "import pickle\n",
    "pickle.dump(rs_2, open('230618_return_history.pkl', 'wb'))"
   ]
  },
  {
   "cell_type": "code",
   "execution_count": 81,
   "metadata": {},
   "outputs": [
    {
     "data": {
      "text/plain": [
       "2021-10-15    1.106509\n",
       "2021-11-15    1.161650\n",
       "2021-12-15    1.165972\n",
       "2022-01-15    1.166073\n",
       "2022-02-15    1.083135\n",
       "2022-03-15    1.116107\n",
       "2022-04-15    1.043721\n",
       "2022-05-15    1.035763\n",
       "2022-06-15    0.920864\n",
       "2022-07-15    0.983744\n",
       "2022-08-15    1.033774\n",
       "2022-09-15    0.893323\n",
       "2022-10-15    0.950262\n",
       "2022-11-15    1.000613\n",
       "2022-12-15    0.970174\n",
       "2023-01-15    1.060858\n",
       "2023-02-15    1.127619\n",
       "2023-03-15    1.233735\n",
       "2023-04-15    1.155111\n",
       "2023-05-15    1.252538\n",
       "2023-06-15    1.367429\n",
       "2023-07-15    1.278558\n",
       "2023-08-15    1.310524\n",
       "2023-09-15    1.307863\n",
       "dtype: float64"
      ]
     },
     "execution_count": 81,
     "metadata": {},
     "output_type": "execute_result"
    }
   ],
   "source": [
    " rs_2"
   ]
  },
  {
   "cell_type": "code",
   "execution_count": 82,
   "metadata": {
    "scrolled": true
   },
   "outputs": [
    {
     "ename": "TypeError",
     "evalue": "create_capacity_tear_sheet() missing 3 required positional arguments: 'positions', 'transactions', and 'market_data'",
     "output_type": "error",
     "traceback": [
      "\u001b[0;31m---------------------------------------------------------------------------\u001b[0m",
      "\u001b[0;31mTypeError\u001b[0m                                 Traceback (most recent call last)",
      "\u001b[0;32m/tmp/ipykernel_75832/553272676.py\u001b[0m in \u001b[0;36m<module>\u001b[0;34m\u001b[0m\n\u001b[0;32m----> 1\u001b[0;31m \u001b[0mpf\u001b[0m\u001b[0;34m.\u001b[0m\u001b[0mtears\u001b[0m\u001b[0;34m.\u001b[0m\u001b[0mcreate_capacity_tear_sheet\u001b[0m\u001b[0;34m(\u001b[0m\u001b[0mrs_2\u001b[0m\u001b[0;34m)\u001b[0m\u001b[0;34m\u001b[0m\u001b[0;34m\u001b[0m\u001b[0m\n\u001b[0m",
      "\u001b[0;32m~/miniconda3/envs/finlab/lib/python3.7/site-packages/pyfolio/plotting.py\u001b[0m in \u001b[0;36mcall_w_context\u001b[0;34m(*args, **kwargs)\u001b[0m\n\u001b[1;32m     50\u001b[0m         \u001b[0;32mif\u001b[0m \u001b[0mset_context\u001b[0m\u001b[0;34m:\u001b[0m\u001b[0;34m\u001b[0m\u001b[0;34m\u001b[0m\u001b[0m\n\u001b[1;32m     51\u001b[0m             \u001b[0;32mwith\u001b[0m \u001b[0mplotting_context\u001b[0m\u001b[0;34m(\u001b[0m\u001b[0;34m)\u001b[0m\u001b[0;34m,\u001b[0m \u001b[0maxes_style\u001b[0m\u001b[0;34m(\u001b[0m\u001b[0;34m)\u001b[0m\u001b[0;34m:\u001b[0m\u001b[0;34m\u001b[0m\u001b[0;34m\u001b[0m\u001b[0m\n\u001b[0;32m---> 52\u001b[0;31m                 \u001b[0;32mreturn\u001b[0m \u001b[0mfunc\u001b[0m\u001b[0;34m(\u001b[0m\u001b[0;34m*\u001b[0m\u001b[0margs\u001b[0m\u001b[0;34m,\u001b[0m \u001b[0;34m**\u001b[0m\u001b[0mkwargs\u001b[0m\u001b[0;34m)\u001b[0m\u001b[0;34m\u001b[0m\u001b[0;34m\u001b[0m\u001b[0m\n\u001b[0m\u001b[1;32m     53\u001b[0m         \u001b[0;32melse\u001b[0m\u001b[0;34m:\u001b[0m\u001b[0;34m\u001b[0m\u001b[0;34m\u001b[0m\u001b[0m\n\u001b[1;32m     54\u001b[0m             \u001b[0;32mreturn\u001b[0m \u001b[0mfunc\u001b[0m\u001b[0;34m(\u001b[0m\u001b[0;34m*\u001b[0m\u001b[0margs\u001b[0m\u001b[0;34m,\u001b[0m \u001b[0;34m**\u001b[0m\u001b[0mkwargs\u001b[0m\u001b[0;34m)\u001b[0m\u001b[0;34m\u001b[0m\u001b[0;34m\u001b[0m\u001b[0m\n",
      "\u001b[0;31mTypeError\u001b[0m: create_capacity_tear_sheet() missing 3 required positional arguments: 'positions', 'transactions', and 'market_data'"
     ]
    }
   ],
   "source": [
    "pf.tears.create_capacity_tear_sheet(rs_2)"
   ]
  },
  {
   "cell_type": "code",
   "execution_count": null,
   "metadata": {},
   "outputs": [],
   "source": [
    "import pickle\n",
    "import pandas as pd\n",
    "\n",
    "# 得到 上面的 回測結果\n",
    "ret = pickle.load(open(\"230618_return_history.pkl\", \"rb\"))\n",
    "\n",
    "# 將回測報酬率取出來\n",
    "ret = ret.pct_change().dropna()\n",
    "#ret.index = pd.to_datetime(ret.index).tz_localize('Asia/Taipei')\n",
    "\n",
    "# 利用pyfolio 比較報酬率\n",
    "\n",
    "pf.create_returns_tear_sheet(ret, benchmark_rets=close['0050'].reindex(ret.index, method='ffill').pct_change())"
   ]
  },
  {
   "cell_type": "markdown",
   "metadata": {},
   "source": [
    "###################################################################################################\n",
    "## 移動窗格最佳化\n",
    "[有空來試試看連結](https://hahow.in/courses/5b9d3a6dca498a001e917383/discussions/61b4c90147843d0006cf2593)\n",
    "\n",
    "###################################################################################################"
   ]
  },
  {
   "cell_type": "code",
   "execution_count": null,
   "metadata": {},
   "outputs": [],
   "source": [
    "train = dataset_train[feature_names].astype(float) , dataset_train['return'] #> 1.00\n",
    "test = dataset_test[feature_names].astype(float) , dataset_test['return'] #> 1.00"
   ]
  },
  {
   "cell_type": "code",
   "execution_count": null,
   "metadata": {},
   "outputs": [],
   "source": [
    "from sklearn.ensemble import RandomForestRegressor\n",
    "\n",
    "# 創建Random Forest模型\n",
    "random_forest = RandomForestRegressor(n_estimators=100)\n",
    "\n",
    "# 使用訓練資料訓練模型\n",
    "random_forest.fit(*train)\n",
    "\n",
    "# 使用測試資料評估模型\n",
    "accuracy = random_forest.score(*test)\n",
    "print(\"Random Forest 模型的準確率：\", accuracy)"
   ]
  },
  {
   "cell_type": "code",
   "execution_count": null,
   "metadata": {},
   "outputs": [],
   "source": [
    "import lightgbm as lgb\n",
    "\n",
    "from sklearn.metrics import mean_squared_error\n",
    "\n",
    "import matplotlib.pyplot as plt\n",
    "\n",
    "import numpy as np\n",
    "\n",
    "%matplotlib inline\n",
    "\n",
    "def select(df):\n",
    "\n",
    "    rank = df['pre']\n",
    "\n",
    "    condition1 = (rank >= rank.nlargest(1).iloc[-1])\n",
    "\n",
    "    return df['return'][condition1].mean() * (1-3/1000-1.425/1000*2*0.6)\n",
    "\n",
    "end = 5\n",
    "\n",
    "cf = lgb.LGBMRegressor(n_estimators=500)\n",
    "\n",
    "\n",
    "\n",
    "train_time = ['2015','2016','2017','2018','2019']\n",
    "\n",
    "s_time = ['2007','2008','2009','2010','2011']\n",
    "\n",
    "test_time = ['2016','2017','2018','2019','2020']\n",
    "\n",
    "dataset_copy = dataset_dropna.copy()\n",
    "\n",
    "store_mse = []"
   ]
  },
  {
   "cell_type": "code",
   "execution_count": null,
   "metadata": {},
   "outputs": [],
   "source": [
    "for time in range(end):\n",
    "\n",
    "    print('%d 次執行中'%(time+1))\n",
    "\n",
    "    dataset_dropna2_train = dataset_copy.loc[s_time[time]:train_time[time]] #2007~ 2015   2008~2016   2009~2017  2010~2018  ....\n",
    "\n",
    "    dataset_dropna2_test = dataset_copy.loc[test_time[time]:test_time[time]]#            2016                2017               2018              2019  .....\n",
    "\n",
    "    \n",
    "    cf.fit(dataset_dropna2_train[feature_names].astype(float), dataset_dropna2_train['rank'])\n",
    "    predict = cf.predict(dataset_dropna2_test[feature_names])\n",
    "\n",
    "    dataset_dropna2_test['pre'] = predict\n",
    "\n",
    "    dates = dataset_dropna2_test.index.get_level_values('date')\n",
    "    \n",
    "    b = dataset_dropna2_test.groupby(dates).apply(select).cumprod()\n",
    "    \n",
    "    s0050 = close['0050'][test_time[time]:test_time[time]]\n",
    "    \n",
    "    s0056 = close['0056'][test_time[time]:test_time[time]]\n",
    "    \n",
    "    pd.DataFrame({'Best 1 stocks return(include handling fee)':b.reindex(s0050.index, method='ffill'), \n",
    "    \n",
    "                  '0050':s0050/s0050[0],'0056':s0056/s0056[0]}).plot()\n",
    "    \n",
    "    plt.ylabel('return')\n",
    "\n"
   ]
  },
  {
   "cell_type": "code",
   "execution_count": null,
   "metadata": {},
   "outputs": [],
   "source": [
    "cf.predict(dataset_dropna2_test[feature_names])"
   ]
  },
  {
   "cell_type": "code",
   "execution_count": null,
   "metadata": {},
   "outputs": [],
   "source": [
    "dataset_dropna2_train[feature_names].astype(float)"
   ]
  },
  {
   "cell_type": "code",
   "execution_count": null,
   "metadata": {},
   "outputs": [],
   "source": []
  }
 ],
 "metadata": {
  "kernelspec": {
   "display_name": "finlab",
   "language": "python",
   "name": "finlab"
  },
  "language_info": {
   "codemirror_mode": {
    "name": "ipython",
    "version": 3
   },
   "file_extension": ".py",
   "mimetype": "text/x-python",
   "name": "python",
   "nbconvert_exporter": "python",
   "pygments_lexer": "ipython3",
   "version": "3.7.16"
  }
 },
 "nbformat": 4,
 "nbformat_minor": 4
}
